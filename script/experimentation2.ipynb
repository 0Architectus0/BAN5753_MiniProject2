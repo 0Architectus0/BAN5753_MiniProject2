{
 "cells": [
  {
   "cell_type": "code",
   "execution_count": 103,
   "source": [
    "import findspark\r\n",
    "findspark.init()"
   ],
   "outputs": [],
   "metadata": {}
  },
  {
   "cell_type": "code",
   "execution_count": 104,
   "source": [
    "from pyspark.sql import SparkSession\r\n",
    "from pyspark.conf import SparkConf\r\n",
    "from pyspark.sql.types import * \r\n",
    "import pyspark.sql.functions as F\r\n",
    "from pyspark.sql.functions import col, asc,desc\r\n",
    "import matplotlib.pyplot as plt\r\n",
    "import numpy as np\r\n",
    "import seaborn as sns\r\n",
    "from pyspark.sql import SQLContext\r\n",
    "from pyspark.mllib.stat import Statistics\r\n",
    "import pandas as pd\r\n",
    "from pyspark.sql.functions import udf\r\n",
    "from pyspark.ml.feature import OneHotEncoder, StringIndexer, VectorAssembler,StandardScaler\r\n",
    "from pyspark.ml import Pipeline\r\n",
    "from sklearn.metrics import confusion_matrix\r\n",
    "%matplotlib inline\r\n",
    "\r\n",
    "spark=SparkSession.builder \\\r\n",
    ".master (\"local[*]\")\\\r\n",
    ".appName(\"MiniProject2\")\\\r\n",
    ".getOrCreate()"
   ],
   "outputs": [],
   "metadata": {}
  },
  {
   "cell_type": "code",
   "execution_count": 105,
   "source": [
    "sc=spark.sparkContext\r\n",
    "sqlContext=SQLContext(sc)"
   ],
   "outputs": [
    {
     "output_type": "stream",
     "name": "stderr",
     "text": [
      "C:\\spark-3.3.0-bin-hadoop3\\python\\pyspark\\sql\\context.py:112: FutureWarning: Deprecated in 3.0.0. Use SparkSession.builder.getOrCreate() instead.\n",
      "  warnings.warn(\n"
     ]
    }
   ],
   "metadata": {}
  },
  {
   "cell_type": "code",
   "execution_count": 106,
   "source": [
    "from platform import python_version\r\n",
    "print(python_version())"
   ],
   "outputs": [
    {
     "output_type": "stream",
     "name": "stdout",
     "text": [
      "3.9.13\n"
     ]
    }
   ],
   "metadata": {}
  },
  {
   "cell_type": "code",
   "execution_count": 107,
   "source": [
    "sc.version #spark version"
   ],
   "outputs": [
    {
     "output_type": "execute_result",
     "data": {
      "text/plain": [
       "'3.3.0'"
      ]
     },
     "metadata": {},
     "execution_count": 107
    }
   ],
   "metadata": {}
  },
  {
   "cell_type": "code",
   "execution_count": 108,
   "source": [
    "df=spark.read \\\r\n",
    " .option(\"header\",\"True\")\\\r\n",
    " .option(\"inferSchema\",\"True\")\\\r\n",
    " .option(\"sep\",\";\")\\\r\n",
    " .csv(\"../data/XYZ_Bank_Deposit_Data_Classification.csv\")\r\n",
    "print(\"There are\",df.count(),\"rows\",len(df.columns),\r\n",
    "      \"columns\" ,\"in the data.\")"
   ],
   "outputs": [
    {
     "output_type": "stream",
     "name": "stdout",
     "text": [
      "There are 41188 rows 21 columns in the data.\n"
     ]
    }
   ],
   "metadata": {}
  },
  {
   "cell_type": "code",
   "execution_count": 109,
   "source": [
    "df.show(4)"
   ],
   "outputs": [
    {
     "output_type": "stream",
     "name": "stdout",
     "text": [
      "+---+---------+-------+-----------+-------+-------+----+---------+-----+-----------+--------+--------+-----+--------+-----------+------------+--------------+-------------+---------+-----------+---+\n",
      "|age|      job|marital|  education|default|housing|loan|  contact|month|day_of_week|duration|campaign|pdays|previous|   poutcome|emp.var.rate|cons.price.idx|cons.conf.idx|euribor3m|nr.employed|  y|\n",
      "+---+---------+-------+-----------+-------+-------+----+---------+-----+-----------+--------+--------+-----+--------+-----------+------------+--------------+-------------+---------+-----------+---+\n",
      "| 56|housemaid|married|   basic.4y|     no|     no|  no|telephone|  may|        mon|     261|       1|  999|       0|nonexistent|         1.1|        93.994|        -36.4|    4.857|     5191.0| no|\n",
      "| 57| services|married|high.school|unknown|     no|  no|telephone|  may|        mon|     149|       1|  999|       0|nonexistent|         1.1|        93.994|        -36.4|    4.857|     5191.0| no|\n",
      "| 37| services|married|high.school|     no|    yes|  no|telephone|  may|        mon|     226|       1|  999|       0|nonexistent|         1.1|        93.994|        -36.4|    4.857|     5191.0| no|\n",
      "| 40|   admin.|married|   basic.6y|     no|     no|  no|telephone|  may|        mon|     151|       1|  999|       0|nonexistent|         1.1|        93.994|        -36.4|    4.857|     5191.0| no|\n",
      "+---+---------+-------+-----------+-------+-------+----+---------+-----+-----------+--------+--------+-----+--------+-----------+------------+--------------+-------------+---------+-----------+---+\n",
      "only showing top 4 rows\n",
      "\n"
     ]
    }
   ],
   "metadata": {}
  },
  {
   "cell_type": "code",
   "execution_count": 110,
   "source": [
    "df.printSchema()"
   ],
   "outputs": [
    {
     "output_type": "stream",
     "name": "stdout",
     "text": [
      "root\n",
      " |-- age: integer (nullable = true)\n",
      " |-- job: string (nullable = true)\n",
      " |-- marital: string (nullable = true)\n",
      " |-- education: string (nullable = true)\n",
      " |-- default: string (nullable = true)\n",
      " |-- housing: string (nullable = true)\n",
      " |-- loan: string (nullable = true)\n",
      " |-- contact: string (nullable = true)\n",
      " |-- month: string (nullable = true)\n",
      " |-- day_of_week: string (nullable = true)\n",
      " |-- duration: integer (nullable = true)\n",
      " |-- campaign: integer (nullable = true)\n",
      " |-- pdays: integer (nullable = true)\n",
      " |-- previous: integer (nullable = true)\n",
      " |-- poutcome: string (nullable = true)\n",
      " |-- emp.var.rate: double (nullable = true)\n",
      " |-- cons.price.idx: double (nullable = true)\n",
      " |-- cons.conf.idx: double (nullable = true)\n",
      " |-- euribor3m: double (nullable = true)\n",
      " |-- nr.employed: double (nullable = true)\n",
      " |-- y: string (nullable = true)\n",
      "\n"
     ]
    }
   ],
   "metadata": {}
  },
  {
   "cell_type": "code",
   "execution_count": 111,
   "source": [
    "numeric_features = [t[0] for t in df.dtypes if t[1] == 'int' ]\r\n",
    "df.select(numeric_features).describe().toPandas().set_index('summary').transpose()"
   ],
   "outputs": [
    {
     "output_type": "execute_result",
     "data": {
      "text/plain": [
       "summary   count                 mean               stddev min   max\n",
       "age       41188    40.02406040594348   10.421249980934057  17    98\n",
       "duration  41188    258.2850101971448   259.27924883646455   0  4918\n",
       "campaign  41188    2.567592502670681    2.770013542902331   1    56\n",
       "pdays     41188    962.4754540157328    186.9109073447414   0   999\n",
       "previous  41188  0.17296299893172767  0.49490107983928927   0     7"
      ],
      "text/html": [
       "<div>\n",
       "<style scoped>\n",
       "    .dataframe tbody tr th:only-of-type {\n",
       "        vertical-align: middle;\n",
       "    }\n",
       "\n",
       "    .dataframe tbody tr th {\n",
       "        vertical-align: top;\n",
       "    }\n",
       "\n",
       "    .dataframe thead th {\n",
       "        text-align: right;\n",
       "    }\n",
       "</style>\n",
       "<table border=\"1\" class=\"dataframe\">\n",
       "  <thead>\n",
       "    <tr style=\"text-align: right;\">\n",
       "      <th>summary</th>\n",
       "      <th>count</th>\n",
       "      <th>mean</th>\n",
       "      <th>stddev</th>\n",
       "      <th>min</th>\n",
       "      <th>max</th>\n",
       "    </tr>\n",
       "  </thead>\n",
       "  <tbody>\n",
       "    <tr>\n",
       "      <th>age</th>\n",
       "      <td>41188</td>\n",
       "      <td>40.02406040594348</td>\n",
       "      <td>10.421249980934057</td>\n",
       "      <td>17</td>\n",
       "      <td>98</td>\n",
       "    </tr>\n",
       "    <tr>\n",
       "      <th>duration</th>\n",
       "      <td>41188</td>\n",
       "      <td>258.2850101971448</td>\n",
       "      <td>259.27924883646455</td>\n",
       "      <td>0</td>\n",
       "      <td>4918</td>\n",
       "    </tr>\n",
       "    <tr>\n",
       "      <th>campaign</th>\n",
       "      <td>41188</td>\n",
       "      <td>2.567592502670681</td>\n",
       "      <td>2.770013542902331</td>\n",
       "      <td>1</td>\n",
       "      <td>56</td>\n",
       "    </tr>\n",
       "    <tr>\n",
       "      <th>pdays</th>\n",
       "      <td>41188</td>\n",
       "      <td>962.4754540157328</td>\n",
       "      <td>186.9109073447414</td>\n",
       "      <td>0</td>\n",
       "      <td>999</td>\n",
       "    </tr>\n",
       "    <tr>\n",
       "      <th>previous</th>\n",
       "      <td>41188</td>\n",
       "      <td>0.17296299893172767</td>\n",
       "      <td>0.49490107983928927</td>\n",
       "      <td>0</td>\n",
       "      <td>7</td>\n",
       "    </tr>\n",
       "  </tbody>\n",
       "</table>\n",
       "</div>"
      ]
     },
     "metadata": {},
     "execution_count": 111
    }
   ],
   "metadata": {}
  },
  {
   "cell_type": "code",
   "execution_count": 112,
   "source": [
    "df_renamed = df.withColumnRenamed(\"cons.price.idx\",\"cons_price_idx\")\\\n",
    ".withColumnRenamed(\"emp.var.rate\", \"emp_var_rate\")\\\n",
    ".withColumnRenamed(\"cons.conf.idx\",\"cons_conf_idx\")\\\n",
    ".withColumnRenamed(\"nr.employed\", \"nr_employed\")"
   ],
   "outputs": [],
   "metadata": {}
  },
  {
   "cell_type": "code",
   "execution_count": 113,
   "source": [
    "df_renamed.show(5)"
   ],
   "outputs": [
    {
     "output_type": "stream",
     "name": "stdout",
     "text": [
      "+---+---------+-------+-----------+-------+-------+----+---------+-----+-----------+--------+--------+-----+--------+-----------+------------+--------------+-------------+---------+-----------+---+\n",
      "|age|      job|marital|  education|default|housing|loan|  contact|month|day_of_week|duration|campaign|pdays|previous|   poutcome|emp_var_rate|cons_price_idx|cons_conf_idx|euribor3m|nr_employed|  y|\n",
      "+---+---------+-------+-----------+-------+-------+----+---------+-----+-----------+--------+--------+-----+--------+-----------+------------+--------------+-------------+---------+-----------+---+\n",
      "| 56|housemaid|married|   basic.4y|     no|     no|  no|telephone|  may|        mon|     261|       1|  999|       0|nonexistent|         1.1|        93.994|        -36.4|    4.857|     5191.0| no|\n",
      "| 57| services|married|high.school|unknown|     no|  no|telephone|  may|        mon|     149|       1|  999|       0|nonexistent|         1.1|        93.994|        -36.4|    4.857|     5191.0| no|\n",
      "| 37| services|married|high.school|     no|    yes|  no|telephone|  may|        mon|     226|       1|  999|       0|nonexistent|         1.1|        93.994|        -36.4|    4.857|     5191.0| no|\n",
      "| 40|   admin.|married|   basic.6y|     no|     no|  no|telephone|  may|        mon|     151|       1|  999|       0|nonexistent|         1.1|        93.994|        -36.4|    4.857|     5191.0| no|\n",
      "| 56| services|married|high.school|     no|     no| yes|telephone|  may|        mon|     307|       1|  999|       0|nonexistent|         1.1|        93.994|        -36.4|    4.857|     5191.0| no|\n",
      "+---+---------+-------+-----------+-------+-------+----+---------+-----+-----------+--------+--------+-----+--------+-----------+------------+--------------+-------------+---------+-----------+---+\n",
      "only showing top 5 rows\n",
      "\n"
     ]
    }
   ],
   "metadata": {}
  },
  {
   "cell_type": "code",
   "execution_count": 114,
   "source": [
    "numeric_features = [t[0] for t in df_renamed.dtypes if t[1] == 'double' or t[1] =='int']\r\n",
    "df_renamed.select(numeric_features).describe().toPandas().set_index('summary').transpose()"
   ],
   "outputs": [
    {
     "output_type": "execute_result",
     "data": {
      "text/plain": [
       "summary         count                 mean               stddev     min  \\\n",
       "age             41188    40.02406040594348   10.421249980934057      17   \n",
       "duration        41188    258.2850101971448   259.27924883646455       0   \n",
       "campaign        41188    2.567592502670681    2.770013542902331       1   \n",
       "pdays           41188    962.4754540157328    186.9109073447414       0   \n",
       "previous        41188  0.17296299893172767  0.49490107983928927       0   \n",
       "emp_var_rate    41188  0.08188550063178392     1.57095974051703    -3.4   \n",
       "cons_price_idx  41188    93.57566436828918   0.5788400489541355  92.201   \n",
       "cons_conf_idx   41188   -40.50260027191787    4.628197856174595   -50.8   \n",
       "euribor3m       41188   3.6212908128585366   1.7344474048512557   0.634   \n",
       "nr_employed     41188    5167.035910944004    72.25152766825924  4963.6   \n",
       "\n",
       "summary            max  \n",
       "age                 98  \n",
       "duration          4918  \n",
       "campaign            56  \n",
       "pdays              999  \n",
       "previous             7  \n",
       "emp_var_rate       1.4  \n",
       "cons_price_idx  94.767  \n",
       "cons_conf_idx    -26.9  \n",
       "euribor3m        5.045  \n",
       "nr_employed     5228.1  "
      ],
      "text/html": [
       "<div>\n",
       "<style scoped>\n",
       "    .dataframe tbody tr th:only-of-type {\n",
       "        vertical-align: middle;\n",
       "    }\n",
       "\n",
       "    .dataframe tbody tr th {\n",
       "        vertical-align: top;\n",
       "    }\n",
       "\n",
       "    .dataframe thead th {\n",
       "        text-align: right;\n",
       "    }\n",
       "</style>\n",
       "<table border=\"1\" class=\"dataframe\">\n",
       "  <thead>\n",
       "    <tr style=\"text-align: right;\">\n",
       "      <th>summary</th>\n",
       "      <th>count</th>\n",
       "      <th>mean</th>\n",
       "      <th>stddev</th>\n",
       "      <th>min</th>\n",
       "      <th>max</th>\n",
       "    </tr>\n",
       "  </thead>\n",
       "  <tbody>\n",
       "    <tr>\n",
       "      <th>age</th>\n",
       "      <td>41188</td>\n",
       "      <td>40.02406040594348</td>\n",
       "      <td>10.421249980934057</td>\n",
       "      <td>17</td>\n",
       "      <td>98</td>\n",
       "    </tr>\n",
       "    <tr>\n",
       "      <th>duration</th>\n",
       "      <td>41188</td>\n",
       "      <td>258.2850101971448</td>\n",
       "      <td>259.27924883646455</td>\n",
       "      <td>0</td>\n",
       "      <td>4918</td>\n",
       "    </tr>\n",
       "    <tr>\n",
       "      <th>campaign</th>\n",
       "      <td>41188</td>\n",
       "      <td>2.567592502670681</td>\n",
       "      <td>2.770013542902331</td>\n",
       "      <td>1</td>\n",
       "      <td>56</td>\n",
       "    </tr>\n",
       "    <tr>\n",
       "      <th>pdays</th>\n",
       "      <td>41188</td>\n",
       "      <td>962.4754540157328</td>\n",
       "      <td>186.9109073447414</td>\n",
       "      <td>0</td>\n",
       "      <td>999</td>\n",
       "    </tr>\n",
       "    <tr>\n",
       "      <th>previous</th>\n",
       "      <td>41188</td>\n",
       "      <td>0.17296299893172767</td>\n",
       "      <td>0.49490107983928927</td>\n",
       "      <td>0</td>\n",
       "      <td>7</td>\n",
       "    </tr>\n",
       "    <tr>\n",
       "      <th>emp_var_rate</th>\n",
       "      <td>41188</td>\n",
       "      <td>0.08188550063178392</td>\n",
       "      <td>1.57095974051703</td>\n",
       "      <td>-3.4</td>\n",
       "      <td>1.4</td>\n",
       "    </tr>\n",
       "    <tr>\n",
       "      <th>cons_price_idx</th>\n",
       "      <td>41188</td>\n",
       "      <td>93.57566436828918</td>\n",
       "      <td>0.5788400489541355</td>\n",
       "      <td>92.201</td>\n",
       "      <td>94.767</td>\n",
       "    </tr>\n",
       "    <tr>\n",
       "      <th>cons_conf_idx</th>\n",
       "      <td>41188</td>\n",
       "      <td>-40.50260027191787</td>\n",
       "      <td>4.628197856174595</td>\n",
       "      <td>-50.8</td>\n",
       "      <td>-26.9</td>\n",
       "    </tr>\n",
       "    <tr>\n",
       "      <th>euribor3m</th>\n",
       "      <td>41188</td>\n",
       "      <td>3.6212908128585366</td>\n",
       "      <td>1.7344474048512557</td>\n",
       "      <td>0.634</td>\n",
       "      <td>5.045</td>\n",
       "    </tr>\n",
       "    <tr>\n",
       "      <th>nr_employed</th>\n",
       "      <td>41188</td>\n",
       "      <td>5167.035910944004</td>\n",
       "      <td>72.25152766825924</td>\n",
       "      <td>4963.6</td>\n",
       "      <td>5228.1</td>\n",
       "    </tr>\n",
       "  </tbody>\n",
       "</table>\n",
       "</div>"
      ]
     },
     "metadata": {},
     "execution_count": 114
    }
   ],
   "metadata": {}
  },
  {
   "cell_type": "code",
   "execution_count": 115,
   "source": [
    "from pyspark.sql.functions import col,isnan, when, count\r\n",
    "df_renamed.select([count(when(isnan(c) | col(c).isNull(), c)).alias(c) for c in df_renamed.columns]).show()"
   ],
   "outputs": [
    {
     "output_type": "stream",
     "name": "stdout",
     "text": [
      "+---+---+-------+---------+-------+-------+----+-------+-----+-----------+--------+--------+-----+--------+--------+------------+--------------+-------------+---------+-----------+---+\n",
      "|age|job|marital|education|default|housing|loan|contact|month|day_of_week|duration|campaign|pdays|previous|poutcome|emp_var_rate|cons_price_idx|cons_conf_idx|euribor3m|nr_employed|  y|\n",
      "+---+---+-------+---------+-------+-------+----+-------+-----+-----------+--------+--------+-----+--------+--------+------------+--------------+-------------+---------+-----------+---+\n",
      "|  0|  0|      0|        0|      0|      0|   0|      0|    0|          0|       0|       0|    0|       0|       0|           0|             0|            0|        0|          0|  0|\n",
      "+---+---+-------+---------+-------+-------+----+-------+-----+-----------+--------+--------+-----+--------+--------+------------+--------------+-------------+---------+-----------+---+\n",
      "\n"
     ]
    }
   ],
   "metadata": {}
  },
  {
   "cell_type": "code",
   "execution_count": 116,
   "source": [
    "from matplotlib import cm\r\n",
    "fig = plt.figure(figsize=(25,15)) ## Plot Size \r\n",
    "st = fig.suptitle(\"Distribution of Features\", fontsize=50,\r\n",
    "                  verticalalignment='center') # Plot Main Title \r\n",
    "\r\n",
    "for col,num in zip(df_renamed.toPandas().describe().columns, range(1,22)):\r\n",
    "    ax = fig.add_subplot(3,4,num)\r\n",
    "    ax.hist(df_renamed.toPandas()[col])\r\n",
    "    plt.style.use('dark_background') \r\n",
    "    plt.grid(False)\r\n",
    "    plt.xticks(rotation=45,fontsize=20)\r\n",
    "    plt.yticks(fontsize=15)\r\n",
    "    plt.title(col.upper(),fontsize=20)\r\n",
    "plt.tight_layout()\r\n",
    "st.set_y(0.95)\r\n",
    "fig.subplots_adjust(top=0.85,hspace = 0.4)\r\n",
    "plt.show()"
   ],
   "outputs": [
    {
     "output_type": "error",
     "ename": "Py4JJavaError",
     "evalue": "An error occurred while calling o1418.collectToPython.\n: org.apache.spark.SparkException: Job aborted due to stage failure: Task 0 in stage 366.0 failed 1 times, most recent failure: Lost task 0.0 in stage 366.0 (TID 434) (YOYOPC executor driver): TaskResultLost (result lost from block manager)\nDriver stacktrace:\r\n\tat org.apache.spark.scheduler.DAGScheduler.failJobAndIndependentStages(DAGScheduler.scala:2672)\r\n\tat org.apache.spark.scheduler.DAGScheduler.$anonfun$abortStage$2(DAGScheduler.scala:2608)\r\n\tat org.apache.spark.scheduler.DAGScheduler.$anonfun$abortStage$2$adapted(DAGScheduler.scala:2607)\r\n\tat scala.collection.mutable.ResizableArray.foreach(ResizableArray.scala:62)\r\n\tat scala.collection.mutable.ResizableArray.foreach$(ResizableArray.scala:55)\r\n\tat scala.collection.mutable.ArrayBuffer.foreach(ArrayBuffer.scala:49)\r\n\tat org.apache.spark.scheduler.DAGScheduler.abortStage(DAGScheduler.scala:2607)\r\n\tat org.apache.spark.scheduler.DAGScheduler.$anonfun$handleTaskSetFailed$1(DAGScheduler.scala:1182)\r\n\tat org.apache.spark.scheduler.DAGScheduler.$anonfun$handleTaskSetFailed$1$adapted(DAGScheduler.scala:1182)\r\n\tat scala.Option.foreach(Option.scala:407)\r\n\tat org.apache.spark.scheduler.DAGScheduler.handleTaskSetFailed(DAGScheduler.scala:1182)\r\n\tat org.apache.spark.scheduler.DAGSchedulerEventProcessLoop.doOnReceive(DAGScheduler.scala:2860)\r\n\tat org.apache.spark.scheduler.DAGSchedulerEventProcessLoop.onReceive(DAGScheduler.scala:2802)\r\n\tat org.apache.spark.scheduler.DAGSchedulerEventProcessLoop.onReceive(DAGScheduler.scala:2791)\r\n\tat org.apache.spark.util.EventLoop$$anon$1.run(EventLoop.scala:49)\r\n\tat org.apache.spark.scheduler.DAGScheduler.runJob(DAGScheduler.scala:952)\r\n\tat org.apache.spark.SparkContext.runJob(SparkContext.scala:2228)\r\n\tat org.apache.spark.SparkContext.runJob(SparkContext.scala:2249)\r\n\tat org.apache.spark.SparkContext.runJob(SparkContext.scala:2268)\r\n\tat org.apache.spark.SparkContext.runJob(SparkContext.scala:2293)\r\n\tat org.apache.spark.rdd.RDD.$anonfun$collect$1(RDD.scala:1021)\r\n\tat org.apache.spark.rdd.RDDOperationScope$.withScope(RDDOperationScope.scala:151)\r\n\tat org.apache.spark.rdd.RDDOperationScope$.withScope(RDDOperationScope.scala:112)\r\n\tat org.apache.spark.rdd.RDD.withScope(RDD.scala:406)\r\n\tat org.apache.spark.rdd.RDD.collect(RDD.scala:1020)\r\n\tat org.apache.spark.sql.execution.SparkPlan.executeCollect(SparkPlan.scala:424)\r\n\tat org.apache.spark.sql.Dataset.$anonfun$collectToPython$1(Dataset.scala:3688)\r\n\tat org.apache.spark.sql.Dataset.$anonfun$withAction$2(Dataset.scala:3858)\r\n\tat org.apache.spark.sql.execution.QueryExecution$.withInternalError(QueryExecution.scala:510)\r\n\tat org.apache.spark.sql.Dataset.$anonfun$withAction$1(Dataset.scala:3856)\r\n\tat org.apache.spark.sql.execution.SQLExecution$.$anonfun$withNewExecutionId$6(SQLExecution.scala:109)\r\n\tat org.apache.spark.sql.execution.SQLExecution$.withSQLConfPropagated(SQLExecution.scala:169)\r\n\tat org.apache.spark.sql.execution.SQLExecution$.$anonfun$withNewExecutionId$1(SQLExecution.scala:95)\r\n\tat org.apache.spark.sql.SparkSession.withActive(SparkSession.scala:779)\r\n\tat org.apache.spark.sql.execution.SQLExecution$.withNewExecutionId(SQLExecution.scala:64)\r\n\tat org.apache.spark.sql.Dataset.withAction(Dataset.scala:3856)\r\n\tat org.apache.spark.sql.Dataset.collectToPython(Dataset.scala:3685)\r\n\tat java.base/jdk.internal.reflect.DirectMethodHandleAccessor.invoke(DirectMethodHandleAccessor.java:104)\r\n\tat java.base/java.lang.reflect.Method.invoke(Method.java:578)\r\n\tat py4j.reflection.MethodInvoker.invoke(MethodInvoker.java:244)\r\n\tat py4j.reflection.ReflectionEngine.invoke(ReflectionEngine.java:357)\r\n\tat py4j.Gateway.invoke(Gateway.java:282)\r\n\tat py4j.commands.AbstractCommand.invokeMethod(AbstractCommand.java:132)\r\n\tat py4j.commands.CallCommand.execute(CallCommand.java:79)\r\n\tat py4j.ClientServerConnection.waitForCommands(ClientServerConnection.java:182)\r\n\tat py4j.ClientServerConnection.run(ClientServerConnection.java:106)\r\n\tat java.base/java.lang.Thread.run(Thread.java:1589)\r\n",
     "traceback": [
      "\u001b[1;31m---------------------------------------------------------------------------\u001b[0m",
      "\u001b[1;31mPy4JJavaError\u001b[0m                             Traceback (most recent call last)",
      "Cell \u001b[1;32mIn [116], line 6\u001b[0m\n\u001b[0;32m      2\u001b[0m fig \u001b[38;5;241m=\u001b[39m plt\u001b[38;5;241m.\u001b[39mfigure(figsize\u001b[38;5;241m=\u001b[39m(\u001b[38;5;241m25\u001b[39m,\u001b[38;5;241m15\u001b[39m)) \u001b[38;5;66;03m## Plot Size \u001b[39;00m\n\u001b[0;32m      3\u001b[0m st \u001b[38;5;241m=\u001b[39m fig\u001b[38;5;241m.\u001b[39msuptitle(\u001b[38;5;124m\"\u001b[39m\u001b[38;5;124mDistribution of Features\u001b[39m\u001b[38;5;124m\"\u001b[39m, fontsize\u001b[38;5;241m=\u001b[39m\u001b[38;5;241m50\u001b[39m,\n\u001b[0;32m      4\u001b[0m                   verticalalignment\u001b[38;5;241m=\u001b[39m\u001b[38;5;124m'\u001b[39m\u001b[38;5;124mcenter\u001b[39m\u001b[38;5;124m'\u001b[39m) \u001b[38;5;66;03m# Plot Main Title \u001b[39;00m\n\u001b[1;32m----> 6\u001b[0m \u001b[38;5;28;01mfor\u001b[39;00m col,num \u001b[38;5;129;01min\u001b[39;00m \u001b[38;5;28mzip\u001b[39m(\u001b[43mdf_renamed\u001b[49m\u001b[38;5;241;43m.\u001b[39;49m\u001b[43mtoPandas\u001b[49m\u001b[43m(\u001b[49m\u001b[43m)\u001b[49m\u001b[38;5;241m.\u001b[39mdescribe()\u001b[38;5;241m.\u001b[39mcolumns, \u001b[38;5;28mrange\u001b[39m(\u001b[38;5;241m1\u001b[39m,\u001b[38;5;241m22\u001b[39m)):\n\u001b[0;32m      7\u001b[0m     ax \u001b[38;5;241m=\u001b[39m fig\u001b[38;5;241m.\u001b[39madd_subplot(\u001b[38;5;241m3\u001b[39m,\u001b[38;5;241m4\u001b[39m,num)\n\u001b[0;32m      8\u001b[0m     ax\u001b[38;5;241m.\u001b[39mhist(df_renamed\u001b[38;5;241m.\u001b[39mtoPandas()[col])\n",
      "File \u001b[1;32mC:\\spark-3.3.0-bin-hadoop3\\python\\pyspark\\sql\\pandas\\conversion.py:205\u001b[0m, in \u001b[0;36mPandasConversionMixin.toPandas\u001b[1;34m(self)\u001b[0m\n\u001b[0;32m    202\u001b[0m             \u001b[38;5;28;01mraise\u001b[39;00m\n\u001b[0;32m    204\u001b[0m \u001b[38;5;66;03m# Below is toPandas without Arrow optimization.\u001b[39;00m\n\u001b[1;32m--> 205\u001b[0m pdf \u001b[38;5;241m=\u001b[39m pd\u001b[38;5;241m.\u001b[39mDataFrame\u001b[38;5;241m.\u001b[39mfrom_records(\u001b[38;5;28;43mself\u001b[39;49m\u001b[38;5;241;43m.\u001b[39;49m\u001b[43mcollect\u001b[49m\u001b[43m(\u001b[49m\u001b[43m)\u001b[49m, columns\u001b[38;5;241m=\u001b[39m\u001b[38;5;28mself\u001b[39m\u001b[38;5;241m.\u001b[39mcolumns)\n\u001b[0;32m    206\u001b[0m column_counter \u001b[38;5;241m=\u001b[39m Counter(\u001b[38;5;28mself\u001b[39m\u001b[38;5;241m.\u001b[39mcolumns)\n\u001b[0;32m    208\u001b[0m corrected_dtypes: List[Optional[Type]] \u001b[38;5;241m=\u001b[39m [\u001b[38;5;28;01mNone\u001b[39;00m] \u001b[38;5;241m*\u001b[39m \u001b[38;5;28mlen\u001b[39m(\u001b[38;5;28mself\u001b[39m\u001b[38;5;241m.\u001b[39mschema)\n",
      "File \u001b[1;32mC:\\spark-3.3.0-bin-hadoop3\\python\\pyspark\\sql\\dataframe.py:817\u001b[0m, in \u001b[0;36mDataFrame.collect\u001b[1;34m(self)\u001b[0m\n\u001b[0;32m    807\u001b[0m \u001b[38;5;124;03m\"\"\"Returns all the records as a list of :class:`Row`.\u001b[39;00m\n\u001b[0;32m    808\u001b[0m \n\u001b[0;32m    809\u001b[0m \u001b[38;5;124;03m.. versionadded:: 1.3.0\u001b[39;00m\n\u001b[1;32m   (...)\u001b[0m\n\u001b[0;32m    814\u001b[0m \u001b[38;5;124;03m[Row(age=2, name='Alice'), Row(age=5, name='Bob')]\u001b[39;00m\n\u001b[0;32m    815\u001b[0m \u001b[38;5;124;03m\"\"\"\u001b[39;00m\n\u001b[0;32m    816\u001b[0m \u001b[38;5;28;01mwith\u001b[39;00m SCCallSiteSync(\u001b[38;5;28mself\u001b[39m\u001b[38;5;241m.\u001b[39m_sc):\n\u001b[1;32m--> 817\u001b[0m     sock_info \u001b[38;5;241m=\u001b[39m \u001b[38;5;28;43mself\u001b[39;49m\u001b[38;5;241;43m.\u001b[39;49m\u001b[43m_jdf\u001b[49m\u001b[38;5;241;43m.\u001b[39;49m\u001b[43mcollectToPython\u001b[49m\u001b[43m(\u001b[49m\u001b[43m)\u001b[49m\n\u001b[0;32m    818\u001b[0m \u001b[38;5;28;01mreturn\u001b[39;00m \u001b[38;5;28mlist\u001b[39m(_load_from_socket(sock_info, BatchedSerializer(CPickleSerializer())))\n",
      "File \u001b[1;32mC:\\spark-3.3.0-bin-hadoop3\\python\\lib\\py4j-0.10.9.5-src.zip\\py4j\\java_gateway.py:1321\u001b[0m, in \u001b[0;36mJavaMember.__call__\u001b[1;34m(self, *args)\u001b[0m\n\u001b[0;32m   1315\u001b[0m command \u001b[38;5;241m=\u001b[39m proto\u001b[38;5;241m.\u001b[39mCALL_COMMAND_NAME \u001b[38;5;241m+\u001b[39m\\\n\u001b[0;32m   1316\u001b[0m     \u001b[38;5;28mself\u001b[39m\u001b[38;5;241m.\u001b[39mcommand_header \u001b[38;5;241m+\u001b[39m\\\n\u001b[0;32m   1317\u001b[0m     args_command \u001b[38;5;241m+\u001b[39m\\\n\u001b[0;32m   1318\u001b[0m     proto\u001b[38;5;241m.\u001b[39mEND_COMMAND_PART\n\u001b[0;32m   1320\u001b[0m answer \u001b[38;5;241m=\u001b[39m \u001b[38;5;28mself\u001b[39m\u001b[38;5;241m.\u001b[39mgateway_client\u001b[38;5;241m.\u001b[39msend_command(command)\n\u001b[1;32m-> 1321\u001b[0m return_value \u001b[38;5;241m=\u001b[39m \u001b[43mget_return_value\u001b[49m\u001b[43m(\u001b[49m\n\u001b[0;32m   1322\u001b[0m \u001b[43m    \u001b[49m\u001b[43manswer\u001b[49m\u001b[43m,\u001b[49m\u001b[43m \u001b[49m\u001b[38;5;28;43mself\u001b[39;49m\u001b[38;5;241;43m.\u001b[39;49m\u001b[43mgateway_client\u001b[49m\u001b[43m,\u001b[49m\u001b[43m \u001b[49m\u001b[38;5;28;43mself\u001b[39;49m\u001b[38;5;241;43m.\u001b[39;49m\u001b[43mtarget_id\u001b[49m\u001b[43m,\u001b[49m\u001b[43m \u001b[49m\u001b[38;5;28;43mself\u001b[39;49m\u001b[38;5;241;43m.\u001b[39;49m\u001b[43mname\u001b[49m\u001b[43m)\u001b[49m\n\u001b[0;32m   1324\u001b[0m \u001b[38;5;28;01mfor\u001b[39;00m temp_arg \u001b[38;5;129;01min\u001b[39;00m temp_args:\n\u001b[0;32m   1325\u001b[0m     temp_arg\u001b[38;5;241m.\u001b[39m_detach()\n",
      "File \u001b[1;32mC:\\spark-3.3.0-bin-hadoop3\\python\\pyspark\\sql\\utils.py:190\u001b[0m, in \u001b[0;36mcapture_sql_exception.<locals>.deco\u001b[1;34m(*a, **kw)\u001b[0m\n\u001b[0;32m    188\u001b[0m \u001b[38;5;28;01mdef\u001b[39;00m \u001b[38;5;21mdeco\u001b[39m(\u001b[38;5;241m*\u001b[39ma: Any, \u001b[38;5;241m*\u001b[39m\u001b[38;5;241m*\u001b[39mkw: Any) \u001b[38;5;241m-\u001b[39m\u001b[38;5;241m>\u001b[39m Any:\n\u001b[0;32m    189\u001b[0m     \u001b[38;5;28;01mtry\u001b[39;00m:\n\u001b[1;32m--> 190\u001b[0m         \u001b[38;5;28;01mreturn\u001b[39;00m f(\u001b[38;5;241m*\u001b[39ma, \u001b[38;5;241m*\u001b[39m\u001b[38;5;241m*\u001b[39mkw)\n\u001b[0;32m    191\u001b[0m     \u001b[38;5;28;01mexcept\u001b[39;00m Py4JJavaError \u001b[38;5;28;01mas\u001b[39;00m e:\n\u001b[0;32m    192\u001b[0m         converted \u001b[38;5;241m=\u001b[39m convert_exception(e\u001b[38;5;241m.\u001b[39mjava_exception)\n",
      "File \u001b[1;32mC:\\spark-3.3.0-bin-hadoop3\\python\\lib\\py4j-0.10.9.5-src.zip\\py4j\\protocol.py:326\u001b[0m, in \u001b[0;36mget_return_value\u001b[1;34m(answer, gateway_client, target_id, name)\u001b[0m\n\u001b[0;32m    324\u001b[0m value \u001b[38;5;241m=\u001b[39m OUTPUT_CONVERTER[\u001b[38;5;28mtype\u001b[39m](answer[\u001b[38;5;241m2\u001b[39m:], gateway_client)\n\u001b[0;32m    325\u001b[0m \u001b[38;5;28;01mif\u001b[39;00m answer[\u001b[38;5;241m1\u001b[39m] \u001b[38;5;241m==\u001b[39m REFERENCE_TYPE:\n\u001b[1;32m--> 326\u001b[0m     \u001b[38;5;28;01mraise\u001b[39;00m Py4JJavaError(\n\u001b[0;32m    327\u001b[0m         \u001b[38;5;124m\"\u001b[39m\u001b[38;5;124mAn error occurred while calling \u001b[39m\u001b[38;5;132;01m{0}\u001b[39;00m\u001b[38;5;132;01m{1}\u001b[39;00m\u001b[38;5;132;01m{2}\u001b[39;00m\u001b[38;5;124m.\u001b[39m\u001b[38;5;130;01m\\n\u001b[39;00m\u001b[38;5;124m\"\u001b[39m\u001b[38;5;241m.\u001b[39m\n\u001b[0;32m    328\u001b[0m         \u001b[38;5;28mformat\u001b[39m(target_id, \u001b[38;5;124m\"\u001b[39m\u001b[38;5;124m.\u001b[39m\u001b[38;5;124m\"\u001b[39m, name), value)\n\u001b[0;32m    329\u001b[0m \u001b[38;5;28;01melse\u001b[39;00m:\n\u001b[0;32m    330\u001b[0m     \u001b[38;5;28;01mraise\u001b[39;00m Py4JError(\n\u001b[0;32m    331\u001b[0m         \u001b[38;5;124m\"\u001b[39m\u001b[38;5;124mAn error occurred while calling \u001b[39m\u001b[38;5;132;01m{0}\u001b[39;00m\u001b[38;5;132;01m{1}\u001b[39;00m\u001b[38;5;132;01m{2}\u001b[39;00m\u001b[38;5;124m. Trace:\u001b[39m\u001b[38;5;130;01m\\n\u001b[39;00m\u001b[38;5;132;01m{3}\u001b[39;00m\u001b[38;5;130;01m\\n\u001b[39;00m\u001b[38;5;124m\"\u001b[39m\u001b[38;5;241m.\u001b[39m\n\u001b[0;32m    332\u001b[0m         \u001b[38;5;28mformat\u001b[39m(target_id, \u001b[38;5;124m\"\u001b[39m\u001b[38;5;124m.\u001b[39m\u001b[38;5;124m\"\u001b[39m, name, value))\n",
      "\u001b[1;31mPy4JJavaError\u001b[0m: An error occurred while calling o1418.collectToPython.\n: org.apache.spark.SparkException: Job aborted due to stage failure: Task 0 in stage 366.0 failed 1 times, most recent failure: Lost task 0.0 in stage 366.0 (TID 434) (YOYOPC executor driver): TaskResultLost (result lost from block manager)\nDriver stacktrace:\r\n\tat org.apache.spark.scheduler.DAGScheduler.failJobAndIndependentStages(DAGScheduler.scala:2672)\r\n\tat org.apache.spark.scheduler.DAGScheduler.$anonfun$abortStage$2(DAGScheduler.scala:2608)\r\n\tat org.apache.spark.scheduler.DAGScheduler.$anonfun$abortStage$2$adapted(DAGScheduler.scala:2607)\r\n\tat scala.collection.mutable.ResizableArray.foreach(ResizableArray.scala:62)\r\n\tat scala.collection.mutable.ResizableArray.foreach$(ResizableArray.scala:55)\r\n\tat scala.collection.mutable.ArrayBuffer.foreach(ArrayBuffer.scala:49)\r\n\tat org.apache.spark.scheduler.DAGScheduler.abortStage(DAGScheduler.scala:2607)\r\n\tat org.apache.spark.scheduler.DAGScheduler.$anonfun$handleTaskSetFailed$1(DAGScheduler.scala:1182)\r\n\tat org.apache.spark.scheduler.DAGScheduler.$anonfun$handleTaskSetFailed$1$adapted(DAGScheduler.scala:1182)\r\n\tat scala.Option.foreach(Option.scala:407)\r\n\tat org.apache.spark.scheduler.DAGScheduler.handleTaskSetFailed(DAGScheduler.scala:1182)\r\n\tat org.apache.spark.scheduler.DAGSchedulerEventProcessLoop.doOnReceive(DAGScheduler.scala:2860)\r\n\tat org.apache.spark.scheduler.DAGSchedulerEventProcessLoop.onReceive(DAGScheduler.scala:2802)\r\n\tat org.apache.spark.scheduler.DAGSchedulerEventProcessLoop.onReceive(DAGScheduler.scala:2791)\r\n\tat org.apache.spark.util.EventLoop$$anon$1.run(EventLoop.scala:49)\r\n\tat org.apache.spark.scheduler.DAGScheduler.runJob(DAGScheduler.scala:952)\r\n\tat org.apache.spark.SparkContext.runJob(SparkContext.scala:2228)\r\n\tat org.apache.spark.SparkContext.runJob(SparkContext.scala:2249)\r\n\tat org.apache.spark.SparkContext.runJob(SparkContext.scala:2268)\r\n\tat org.apache.spark.SparkContext.runJob(SparkContext.scala:2293)\r\n\tat org.apache.spark.rdd.RDD.$anonfun$collect$1(RDD.scala:1021)\r\n\tat org.apache.spark.rdd.RDDOperationScope$.withScope(RDDOperationScope.scala:151)\r\n\tat org.apache.spark.rdd.RDDOperationScope$.withScope(RDDOperationScope.scala:112)\r\n\tat org.apache.spark.rdd.RDD.withScope(RDD.scala:406)\r\n\tat org.apache.spark.rdd.RDD.collect(RDD.scala:1020)\r\n\tat org.apache.spark.sql.execution.SparkPlan.executeCollect(SparkPlan.scala:424)\r\n\tat org.apache.spark.sql.Dataset.$anonfun$collectToPython$1(Dataset.scala:3688)\r\n\tat org.apache.spark.sql.Dataset.$anonfun$withAction$2(Dataset.scala:3858)\r\n\tat org.apache.spark.sql.execution.QueryExecution$.withInternalError(QueryExecution.scala:510)\r\n\tat org.apache.spark.sql.Dataset.$anonfun$withAction$1(Dataset.scala:3856)\r\n\tat org.apache.spark.sql.execution.SQLExecution$.$anonfun$withNewExecutionId$6(SQLExecution.scala:109)\r\n\tat org.apache.spark.sql.execution.SQLExecution$.withSQLConfPropagated(SQLExecution.scala:169)\r\n\tat org.apache.spark.sql.execution.SQLExecution$.$anonfun$withNewExecutionId$1(SQLExecution.scala:95)\r\n\tat org.apache.spark.sql.SparkSession.withActive(SparkSession.scala:779)\r\n\tat org.apache.spark.sql.execution.SQLExecution$.withNewExecutionId(SQLExecution.scala:64)\r\n\tat org.apache.spark.sql.Dataset.withAction(Dataset.scala:3856)\r\n\tat org.apache.spark.sql.Dataset.collectToPython(Dataset.scala:3685)\r\n\tat java.base/jdk.internal.reflect.DirectMethodHandleAccessor.invoke(DirectMethodHandleAccessor.java:104)\r\n\tat java.base/java.lang.reflect.Method.invoke(Method.java:578)\r\n\tat py4j.reflection.MethodInvoker.invoke(MethodInvoker.java:244)\r\n\tat py4j.reflection.ReflectionEngine.invoke(ReflectionEngine.java:357)\r\n\tat py4j.Gateway.invoke(Gateway.java:282)\r\n\tat py4j.commands.AbstractCommand.invokeMethod(AbstractCommand.java:132)\r\n\tat py4j.commands.CallCommand.execute(CallCommand.java:79)\r\n\tat py4j.ClientServerConnection.waitForCommands(ClientServerConnection.java:182)\r\n\tat py4j.ClientServerConnection.run(ClientServerConnection.java:106)\r\n\tat java.base/java.lang.Thread.run(Thread.java:1589)\r\n"
     ]
    },
    {
     "output_type": "display_data",
     "data": {
      "text/plain": [
       "<Figure size 2500x1500 with 0 Axes>"
      ]
     },
     "metadata": {}
    }
   ],
   "metadata": {}
  },
  {
   "cell_type": "markdown",
   "source": [
    "Null values within certain columns have been assigned numeric values. In order to properly gauget the distributions of the variables those values will be replaced by nulls and a null indicator column will be added for each. "
   ],
   "metadata": {}
  },
  {
   "cell_type": "code",
   "execution_count": null,
   "source": [
    "from pyspark.sql.functions import when\r\n",
    "\r\n",
    "df3 = df_renamed.withColumn(\"wasPreviouslyContacted\",when(df_renamed.pdays==999,0).otherwise(1))"
   ],
   "outputs": [],
   "metadata": {}
  },
  {
   "cell_type": "code",
   "execution_count": null,
   "source": [
    "df3.show(5)"
   ],
   "outputs": [
    {
     "output_type": "stream",
     "name": "stdout",
     "text": [
      "+---+---------+-------+-----------+-------+-------+----+---------+-----+-----------+--------+--------+-----+--------+-----------+------------+--------------+-------------+---------+-----------+---+----------------------+\n",
      "|age|      job|marital|  education|default|housing|loan|  contact|month|day_of_week|duration|campaign|pdays|previous|   poutcome|emp_var_rate|cons_price_idx|cons_conf_idx|euribor3m|nr_employed|  y|wasPreviouslyContacted|\n",
      "+---+---------+-------+-----------+-------+-------+----+---------+-----+-----------+--------+--------+-----+--------+-----------+------------+--------------+-------------+---------+-----------+---+----------------------+\n",
      "| 56|housemaid|married|   basic.4y|     no|     no|  no|telephone|  may|        mon|     261|       1|  999|       0|nonexistent|         1.1|        93.994|        -36.4|    4.857|     5191.0| no|                     0|\n",
      "| 57| services|married|high.school|unknown|     no|  no|telephone|  may|        mon|     149|       1|  999|       0|nonexistent|         1.1|        93.994|        -36.4|    4.857|     5191.0| no|                     0|\n",
      "| 37| services|married|high.school|     no|    yes|  no|telephone|  may|        mon|     226|       1|  999|       0|nonexistent|         1.1|        93.994|        -36.4|    4.857|     5191.0| no|                     0|\n",
      "| 40|   admin.|married|   basic.6y|     no|     no|  no|telephone|  may|        mon|     151|       1|  999|       0|nonexistent|         1.1|        93.994|        -36.4|    4.857|     5191.0| no|                     0|\n",
      "| 56| services|married|high.school|     no|     no| yes|telephone|  may|        mon|     307|       1|  999|       0|nonexistent|         1.1|        93.994|        -36.4|    4.857|     5191.0| no|                     0|\n",
      "+---+---------+-------+-----------+-------+-------+----+---------+-----+-----------+--------+--------+-----+--------+-----------+------------+--------------+-------------+---------+-----------+---+----------------------+\n",
      "only showing top 5 rows\n",
      "\n"
     ]
    }
   ],
   "metadata": {}
  },
  {
   "cell_type": "code",
   "execution_count": null,
   "source": [
    "df3=df3.withColumn(\"pdays\",when(df3.pdays==999,np.nan).otherwise(df3.pdays))"
   ],
   "outputs": [],
   "metadata": {}
  },
  {
   "cell_type": "code",
   "execution_count": null,
   "source": [
    "df3.show(5)"
   ],
   "outputs": [
    {
     "output_type": "stream",
     "name": "stdout",
     "text": [
      "+---+---------+-------+-----------+-------+-------+----+---------+-----+-----------+--------+--------+-----+--------+-----------+------------+--------------+-------------+---------+-----------+---+----------------------+\n",
      "|age|      job|marital|  education|default|housing|loan|  contact|month|day_of_week|duration|campaign|pdays|previous|   poutcome|emp_var_rate|cons_price_idx|cons_conf_idx|euribor3m|nr_employed|  y|wasPreviouslyContacted|\n",
      "+---+---------+-------+-----------+-------+-------+----+---------+-----+-----------+--------+--------+-----+--------+-----------+------------+--------------+-------------+---------+-----------+---+----------------------+\n",
      "| 56|housemaid|married|   basic.4y|     no|     no|  no|telephone|  may|        mon|     261|       1|  NaN|       0|nonexistent|         1.1|        93.994|        -36.4|    4.857|     5191.0| no|                 false|\n",
      "| 57| services|married|high.school|unknown|     no|  no|telephone|  may|        mon|     149|       1|  NaN|       0|nonexistent|         1.1|        93.994|        -36.4|    4.857|     5191.0| no|                 false|\n",
      "| 37| services|married|high.school|     no|    yes|  no|telephone|  may|        mon|     226|       1|  NaN|       0|nonexistent|         1.1|        93.994|        -36.4|    4.857|     5191.0| no|                 false|\n",
      "| 40|   admin.|married|   basic.6y|     no|     no|  no|telephone|  may|        mon|     151|       1|  NaN|       0|nonexistent|         1.1|        93.994|        -36.4|    4.857|     5191.0| no|                 false|\n",
      "| 56| services|married|high.school|     no|     no| yes|telephone|  may|        mon|     307|       1|  NaN|       0|nonexistent|         1.1|        93.994|        -36.4|    4.857|     5191.0| no|                 false|\n",
      "+---+---------+-------+-----------+-------+-------+----+---------+-----+-----------+--------+--------+-----+--------+-----------+------------+--------------+-------------+---------+-----------+---+----------------------+\n",
      "only showing top 5 rows\n",
      "\n"
     ]
    }
   ],
   "metadata": {}
  },
  {
   "cell_type": "code",
   "execution_count": null,
   "source": [
    "from matplotlib import cm\r\n",
    "fig = plt.figure(figsize=(25,15)) ## Plot Size \r\n",
    "st = fig.suptitle(\"Distribution of Features\", fontsize=50,\r\n",
    "                  verticalalignment='center') # Plot Main Title \r\n",
    "\r\n",
    "for col,num in zip(df3.toPandas().describe().columns, range(1,22)):\r\n",
    "    ax = fig.add_subplot(3,4,num)\r\n",
    "    ax.hist(df3.toPandas()[col])\r\n",
    "    plt.style.use('dark_background') \r\n",
    "    plt.grid(False)\r\n",
    "    plt.xticks(rotation=45,fontsize=20)\r\n",
    "    plt.yticks(fontsize=15)\r\n",
    "    plt.title(col.upper(),fontsize=20)\r\n",
    "plt.tight_layout()\r\n",
    "st.set_y(0.95)\r\n",
    "fig.subplots_adjust(top=0.85,hspace = 0.4)\r\n",
    "plt.show()"
   ],
   "outputs": [
    {
     "output_type": "display_data",
     "data": {
      "text/plain": [
       "<Figure size 2500x1500 with 10 Axes>"
      ],
      "image/png": "[encoded data removed]"
     },
     "metadata": {}
    }
   ],
   "metadata": {}
  },
  {
   "cell_type": "code",
   "execution_count": null,
   "source": [
    "df3.groupby(\"y\").count().show()"
   ],
   "outputs": [
    {
     "output_type": "stream",
     "name": "stdout",
     "text": [
      "+---+-----+\n",
      "|  y|count|\n",
      "+---+-----+\n",
      "| no|36548|\n",
      "|yes| 4640|\n",
      "+---+-----+\n",
      "\n"
     ]
    }
   ],
   "metadata": {}
  },
  {
   "cell_type": "code",
   "execution_count": null,
   "source": [
    "df3.groupby(\"wasPreviouslyContacted\").count().show()"
   ],
   "outputs": [
    {
     "output_type": "stream",
     "name": "stdout",
     "text": [
      "+----------------------+-----+\n",
      "|wasPreviouslyContacted|count|\n",
      "+----------------------+-----+\n",
      "|                  true| 1515|\n",
      "|                 false|39673|\n",
      "+----------------------+-----+\n",
      "\n"
     ]
    }
   ],
   "metadata": {}
  },
  {
   "cell_type": "code",
   "execution_count": null,
   "source": [
    "df3.groupby(\"job\").count().show()"
   ],
   "outputs": [
    {
     "output_type": "stream",
     "name": "stdout",
     "text": [
      "+-------------+-----+\n",
      "|          job|count|\n",
      "+-------------+-----+\n",
      "|   management| 2924|\n",
      "|      retired| 1720|\n",
      "|      unknown|  330|\n",
      "|self-employed| 1421|\n",
      "|      student|  875|\n",
      "|  blue-collar| 9254|\n",
      "| entrepreneur| 1456|\n",
      "|       admin.|10422|\n",
      "|   technician| 6743|\n",
      "|     services| 3969|\n",
      "|    housemaid| 1060|\n",
      "|   unemployed| 1014|\n",
      "+-------------+-----+\n",
      "\n"
     ]
    }
   ],
   "metadata": {}
  },
  {
   "cell_type": "code",
   "execution_count": null,
   "source": [
    "df3.groupby(\"marital\").count().show()"
   ],
   "outputs": [
    {
     "output_type": "stream",
     "name": "stdout",
     "text": [
      "+--------+-----+\n",
      "| marital|count|\n",
      "+--------+-----+\n",
      "| unknown|   80|\n",
      "|divorced| 4612|\n",
      "| married|24928|\n",
      "|  single|11568|\n",
      "+--------+-----+\n",
      "\n"
     ]
    }
   ],
   "metadata": {}
  },
  {
   "cell_type": "code",
   "execution_count": null,
   "source": [
    "df3=df3.withColumn(\"marital\",when(df3.marital==\"unknown\",np.nan).otherwise(df3.marital))\\\n",
    ".withColumn(\"education\",when(df3.education==\"unknown\",np.nan).otherwise(df3.education))\\\n",
    ".withColumn(\"default\",when(df3.default==\"unknown\",np.nan).otherwise(df3.default))\\\n",
    ".withColumn(\"housing\",when(df3.housing==\"unknown\",np.nan).otherwise(df3.housing))\\\n",
    ".withColumn(\"loan\",when(df3.loan==\"unknown\",np.nan).otherwise(df3.loan))\n"
   ],
   "outputs": [],
   "metadata": {}
  },
  {
   "cell_type": "code",
   "execution_count": null,
   "source": [
    "df3.groupby(\"education\").count().show()"
   ],
   "outputs": [
    {
     "output_type": "stream",
     "name": "stdout",
     "text": [
      "+-------------------+-----+\n",
      "|          education|count|\n",
      "+-------------------+-----+\n",
      "|        high.school| 9515|\n",
      "|           basic.6y| 2292|\n",
      "|professional.course| 5243|\n",
      "|  university.degree|12168|\n",
      "|         illiterate|   18|\n",
      "|           basic.4y| 4176|\n",
      "|                NaN| 1731|\n",
      "|           basic.9y| 6045|\n",
      "+-------------------+-----+\n",
      "\n"
     ]
    }
   ],
   "metadata": {}
  },
  {
   "cell_type": "code",
   "execution_count": null,
   "source": [
    "df3.groupby(\"default\").count().show()"
   ],
   "outputs": [
    {
     "output_type": "stream",
     "name": "stdout",
     "text": [
      "+-------+-----+\n",
      "|default|count|\n",
      "+-------+-----+\n",
      "|    NaN| 8597|\n",
      "|     no|32588|\n",
      "|    yes|    3|\n",
      "+-------+-----+\n",
      "\n"
     ]
    }
   ],
   "metadata": {}
  },
  {
   "cell_type": "code",
   "execution_count": null,
   "source": [
    "df3.groupby(\"housing\").count().show()"
   ],
   "outputs": [
    {
     "output_type": "stream",
     "name": "stdout",
     "text": [
      "+-------+-----+\n",
      "|housing|count|\n",
      "+-------+-----+\n",
      "|unknown|  990|\n",
      "|     no|18622|\n",
      "|    yes|21576|\n",
      "+-------+-----+\n",
      "\n"
     ]
    }
   ],
   "metadata": {}
  },
  {
   "cell_type": "code",
   "execution_count": null,
   "source": [
    "df3.groupby(\"loan\").count().show()"
   ],
   "outputs": [
    {
     "output_type": "stream",
     "name": "stdout",
     "text": [
      "+-------+-----+\n",
      "|   loan|count|\n",
      "+-------+-----+\n",
      "|unknown|  990|\n",
      "|     no|33950|\n",
      "|    yes| 6248|\n",
      "+-------+-----+\n",
      "\n"
     ]
    }
   ],
   "metadata": {}
  },
  {
   "cell_type": "code",
   "execution_count": null,
   "source": [
    "df3.groupby(\"contact\").count().show()"
   ],
   "outputs": [
    {
     "output_type": "stream",
     "name": "stdout",
     "text": [
      "+---------+-----+\n",
      "|  contact|count|\n",
      "+---------+-----+\n",
      "| cellular|26144|\n",
      "|telephone|15044|\n",
      "+---------+-----+\n",
      "\n"
     ]
    }
   ],
   "metadata": {}
  },
  {
   "cell_type": "code",
   "execution_count": null,
   "source": [
    "df3.groupby(\"month\").count().show()"
   ],
   "outputs": [
    {
     "output_type": "stream",
     "name": "stdout",
     "text": [
      "+-----+-----+\n",
      "|month|count|\n",
      "+-----+-----+\n",
      "|  jun| 5318|\n",
      "|  aug| 6178|\n",
      "|  may|13769|\n",
      "|  mar|  546|\n",
      "|  oct|  718|\n",
      "|  jul| 7174|\n",
      "|  nov| 4101|\n",
      "|  apr| 2632|\n",
      "|  dec|  182|\n",
      "|  sep|  570|\n",
      "+-----+-----+\n",
      "\n"
     ]
    }
   ],
   "metadata": {}
  },
  {
   "cell_type": "code",
   "execution_count": null,
   "source": [
    "df3.groupby(\"day_of_week\").count().show()"
   ],
   "outputs": [
    {
     "output_type": "stream",
     "name": "stdout",
     "text": [
      "+-----------+-----+\n",
      "|day_of_week|count|\n",
      "+-----------+-----+\n",
      "|        fri| 7827|\n",
      "|        thu| 8623|\n",
      "|        tue| 8090|\n",
      "|        wed| 8134|\n",
      "|        mon| 8514|\n",
      "+-----------+-----+\n",
      "\n"
     ]
    }
   ],
   "metadata": {}
  },
  {
   "cell_type": "code",
   "execution_count": null,
   "source": [
    "df3.groupby(\"poutcome\").count().show()"
   ],
   "outputs": [
    {
     "output_type": "stream",
     "name": "stdout",
     "text": [
      "+-----------+-----+\n",
      "|   poutcome|count|\n",
      "+-----------+-----+\n",
      "|    success| 1373|\n",
      "|    failure| 4252|\n",
      "|nonexistent|35563|\n",
      "+-----------+-----+\n",
      "\n"
     ]
    }
   ],
   "metadata": {}
  },
  {
   "cell_type": "code",
   "execution_count": null,
   "source": [
    "from pyspark.ml.feature import QuantileDiscretizer\r\n",
    "#education_udf = udf(udf_multiple)\r\n",
    "#df3.withColumn(\"age_group\",pd.qcut(df3.age, q=5)).show(5)\r\n",
    "\r\n",
    "\r\n",
    "qds1 = QuantileDiscretizer(inputCol=\"age\", outputCol=\"age_buckets\")\r\n",
    "qds1.setNumBuckets(5)\r\n",
    "qds1.setRelativeError(0.01)\r\n",
    "qds1.setHandleInvalid(\"error\")\r\n",
    "bucketizer = qds1.fit(df3)\r\n",
    "qds1.setHandleInvalid(\"keep\").fit(df3).transform(df3).count()"
   ],
   "outputs": [
    {
     "output_type": "execute_result",
     "data": {
      "text/plain": [
       "41188"
      ]
     },
     "metadata": {},
     "execution_count": 51
    }
   ],
   "metadata": {}
  },
  {
   "cell_type": "code",
   "execution_count": null,
   "source": [
    "qds1.setHandleInvalid(\"skip\").fit(df3).transform(df3).count()"
   ],
   "outputs": [
    {
     "output_type": "execute_result",
     "data": {
      "text/plain": [
       "41188"
      ]
     },
     "metadata": {},
     "execution_count": 52
    }
   ],
   "metadata": {}
  },
  {
   "cell_type": "code",
   "execution_count": null,
   "source": [
    "splits = bucketizer.getSplits()\r\n",
    "splits"
   ],
   "outputs": [
    {
     "output_type": "execute_result",
     "data": {
      "text/plain": [
       "[-inf, 31.0, 35.0, 41.0, 49.0, inf]"
      ]
     },
     "metadata": {},
     "execution_count": 54
    }
   ],
   "metadata": {}
  },
  {
   "cell_type": "code",
   "execution_count": null,
   "source": [
    "d4 = qds1.setHandleInvalid(\"keep\").fit(df3).transform(df3)"
   ],
   "outputs": [],
   "metadata": {}
  },
  {
   "cell_type": "code",
   "execution_count": null,
   "source": [
    "d4.show(5)"
   ],
   "outputs": [
    {
     "output_type": "stream",
     "name": "stdout",
     "text": [
      "+---+---------+-------+-----------+-------+-------+----+---------+-----+-----------+--------+--------+-----+--------+-----------+------------+--------------+-------------+---------+-----------+---+----------------------+-----------+\n",
      "|age|      job|marital|  education|default|housing|loan|  contact|month|day_of_week|duration|campaign|pdays|previous|   poutcome|emp_var_rate|cons_price_idx|cons_conf_idx|euribor3m|nr_employed|  y|wasPreviouslyContacted|age_buckets|\n",
      "+---+---------+-------+-----------+-------+-------+----+---------+-----+-----------+--------+--------+-----+--------+-----------+------------+--------------+-------------+---------+-----------+---+----------------------+-----------+\n",
      "| 56|housemaid|married|   basic.4y|     no|     no|  no|telephone|  may|        mon|     261|       1|  NaN|       0|nonexistent|         1.1|        93.994|        -36.4|    4.857|     5191.0| no|                 false|        4.0|\n",
      "| 57| services|married|high.school|    NaN|     no|  no|telephone|  may|        mon|     149|       1|  NaN|       0|nonexistent|         1.1|        93.994|        -36.4|    4.857|     5191.0| no|                 false|        4.0|\n",
      "| 37| services|married|high.school|     no|    yes|  no|telephone|  may|        mon|     226|       1|  NaN|       0|nonexistent|         1.1|        93.994|        -36.4|    4.857|     5191.0| no|                 false|        2.0|\n",
      "| 40|   admin.|married|   basic.6y|     no|     no|  no|telephone|  may|        mon|     151|       1|  NaN|       0|nonexistent|         1.1|        93.994|        -36.4|    4.857|     5191.0| no|                 false|        2.0|\n",
      "| 56| services|married|high.school|     no|     no| yes|telephone|  may|        mon|     307|       1|  NaN|       0|nonexistent|         1.1|        93.994|        -36.4|    4.857|     5191.0| no|                 false|        4.0|\n",
      "+---+---------+-------+-----------+-------+-------+----+---------+-----+-----------+--------+--------+-----+--------+-----------+------------+--------------+-------------+---------+-----------+---+----------------------+-----------+\n",
      "only showing top 5 rows\n",
      "\n"
     ]
    }
   ],
   "metadata": {}
  },
  {
   "cell_type": "markdown",
   "source": [
    "# Feature Groups"
   ],
   "metadata": {}
  },
  {
   "cell_type": "code",
   "execution_count": null,
   "source": [
    "categorical_features = [t[0] for t in df3.dtypes if t[1] == 'string' and t[0] != \"y\"]\r\n",
    "categorical_features"
   ],
   "outputs": [
    {
     "output_type": "execute_result",
     "data": {
      "text/plain": [
       "['job',\n",
       " 'marital',\n",
       " 'education',\n",
       " 'default',\n",
       " 'housing',\n",
       " 'loan',\n",
       " 'contact',\n",
       " 'month',\n",
       " 'day_of_week',\n",
       " 'poutcome']"
      ]
     },
     "metadata": {},
     "execution_count": 113
    }
   ],
   "metadata": {}
  },
  {
   "cell_type": "code",
   "execution_count": null,
   "source": [
    "numeric_features = [t[0] for t in df3.dtypes if t[1] != 'string']\r\n",
    "numeric_features"
   ],
   "outputs": [
    {
     "output_type": "execute_result",
     "data": {
      "text/plain": [
       "['age',\n",
       " 'duration',\n",
       " 'campaign',\n",
       " 'pdays',\n",
       " 'previous',\n",
       " 'emp_var_rate',\n",
       " 'cons_price_idx',\n",
       " 'cons_conf_idx',\n",
       " 'euribor3m',\n",
       " 'nr_employed',\n",
       " 'wasPreviouslyContacted']"
      ]
     },
     "metadata": {},
     "execution_count": 60
    }
   ],
   "metadata": {}
  },
  {
   "cell_type": "markdown",
   "source": [
    "# Correlation"
   ],
   "metadata": {}
  },
  {
   "cell_type": "markdown",
   "source": [
    "## Pearson "
   ],
   "metadata": {}
  },
  {
   "cell_type": "code",
   "execution_count": null,
   "source": [
    "numeric_features_df=d4.select(numeric_features+\"\")\r\n",
    "\r\n",
    "col_names =numeric_features_df.columns\r\n",
    "features = numeric_features_df.rdd.map(lambda row: row[0:])\r\n",
    "corr_mat=Statistics.corr(features, method=\"pearson\")\r\n",
    "corr_df = pd.DataFrame(corr_mat)\r\n",
    "corr_df.index, corr_df.columns = col_names, col_names\r\n",
    "\r\n",
    "corr_df"
   ],
   "outputs": [
    {
     "output_type": "execute_result",
     "data": {
      "text/plain": [
       "                             age  duration  campaign  pdays  previous  \\\n",
       "age                     1.000000 -0.000866  0.004594    NaN  0.024365   \n",
       "duration               -0.000866  1.000000 -0.071699    NaN  0.020640   \n",
       "campaign                0.004594 -0.071699  1.000000    NaN -0.079141   \n",
       "pdays                        NaN       NaN       NaN    1.0       NaN   \n",
       "previous                0.024365  0.020640 -0.079141    NaN  1.000000   \n",
       "emp_var_rate           -0.000371 -0.027968  0.150754    NaN -0.420489   \n",
       "cons_price_idx          0.000857  0.005312  0.127836    NaN -0.203130   \n",
       "cons_conf_idx           0.129372 -0.008173 -0.013733    NaN -0.050936   \n",
       "euribor3m               0.010767 -0.032897  0.135133    NaN -0.454494   \n",
       "nr_employed            -0.017725 -0.044703  0.144095    NaN -0.501333   \n",
       "wasPreviouslyContacted  0.034292  0.047634 -0.052569    NaN  0.587462   \n",
       "\n",
       "                        emp_var_rate  cons_price_idx  cons_conf_idx  \\\n",
       "age                        -0.000371        0.000857       0.129372   \n",
       "duration                   -0.027968        0.005312      -0.008173   \n",
       "campaign                    0.150754        0.127836      -0.013733   \n",
       "pdays                            NaN             NaN            NaN   \n",
       "previous                   -0.420489       -0.203130      -0.050936   \n",
       "emp_var_rate                1.000000        0.775334       0.196041   \n",
       "cons_price_idx              0.775334        1.000000       0.058986   \n",
       "cons_conf_idx               0.196041        0.058986       1.000000   \n",
       "euribor3m                   0.972245        0.688230       0.277686   \n",
       "nr_employed                 0.906970        0.522034       0.100513   \n",
       "wasPreviouslyContacted     -0.270945       -0.078715       0.091254   \n",
       "\n",
       "                        euribor3m  nr_employed  wasPreviouslyContacted  \n",
       "age                      0.010767    -0.017725                0.034292  \n",
       "duration                -0.032897    -0.044703                0.047634  \n",
       "campaign                 0.135133     0.144095               -0.052569  \n",
       "pdays                         NaN          NaN                     NaN  \n",
       "previous                -0.454494    -0.501333                0.587462  \n",
       "emp_var_rate             0.972245     0.906970               -0.270945  \n",
       "cons_price_idx           0.688230     0.522034               -0.078715  \n",
       "cons_conf_idx            0.277686     0.100513                0.091254  \n",
       "euribor3m                1.000000     0.945154               -0.296920  \n",
       "nr_employed              0.945154     1.000000               -0.372682  \n",
       "wasPreviouslyContacted  -0.296920    -0.372682                1.000000  "
      ],
      "text/html": [
       "<div>\n",
       "<style scoped>\n",
       "    .dataframe tbody tr th:only-of-type {\n",
       "        vertical-align: middle;\n",
       "    }\n",
       "\n",
       "    .dataframe tbody tr th {\n",
       "        vertical-align: top;\n",
       "    }\n",
       "\n",
       "    .dataframe thead th {\n",
       "        text-align: right;\n",
       "    }\n",
       "</style>\n",
       "<table border=\"1\" class=\"dataframe\">\n",
       "  <thead>\n",
       "    <tr style=\"text-align: right;\">\n",
       "      <th></th>\n",
       "      <th>age</th>\n",
       "      <th>duration</th>\n",
       "      <th>campaign</th>\n",
       "      <th>pdays</th>\n",
       "      <th>previous</th>\n",
       "      <th>emp_var_rate</th>\n",
       "      <th>cons_price_idx</th>\n",
       "      <th>cons_conf_idx</th>\n",
       "      <th>euribor3m</th>\n",
       "      <th>nr_employed</th>\n",
       "      <th>wasPreviouslyContacted</th>\n",
       "    </tr>\n",
       "  </thead>\n",
       "  <tbody>\n",
       "    <tr>\n",
       "      <th>age</th>\n",
       "      <td>1.000000</td>\n",
       "      <td>-0.000866</td>\n",
       "      <td>0.004594</td>\n",
       "      <td>NaN</td>\n",
       "      <td>0.024365</td>\n",
       "      <td>-0.000371</td>\n",
       "      <td>0.000857</td>\n",
       "      <td>0.129372</td>\n",
       "      <td>0.010767</td>\n",
       "      <td>-0.017725</td>\n",
       "      <td>0.034292</td>\n",
       "    </tr>\n",
       "    <tr>\n",
       "      <th>duration</th>\n",
       "      <td>-0.000866</td>\n",
       "      <td>1.000000</td>\n",
       "      <td>-0.071699</td>\n",
       "      <td>NaN</td>\n",
       "      <td>0.020640</td>\n",
       "      <td>-0.027968</td>\n",
       "      <td>0.005312</td>\n",
       "      <td>-0.008173</td>\n",
       "      <td>-0.032897</td>\n",
       "      <td>-0.044703</td>\n",
       "      <td>0.047634</td>\n",
       "    </tr>\n",
       "    <tr>\n",
       "      <th>campaign</th>\n",
       "      <td>0.004594</td>\n",
       "      <td>-0.071699</td>\n",
       "      <td>1.000000</td>\n",
       "      <td>NaN</td>\n",
       "      <td>-0.079141</td>\n",
       "      <td>0.150754</td>\n",
       "      <td>0.127836</td>\n",
       "      <td>-0.013733</td>\n",
       "      <td>0.135133</td>\n",
       "      <td>0.144095</td>\n",
       "      <td>-0.052569</td>\n",
       "    </tr>\n",
       "    <tr>\n",
       "      <th>pdays</th>\n",
       "      <td>NaN</td>\n",
       "      <td>NaN</td>\n",
       "      <td>NaN</td>\n",
       "      <td>1.0</td>\n",
       "      <td>NaN</td>\n",
       "      <td>NaN</td>\n",
       "      <td>NaN</td>\n",
       "      <td>NaN</td>\n",
       "      <td>NaN</td>\n",
       "      <td>NaN</td>\n",
       "      <td>NaN</td>\n",
       "    </tr>\n",
       "    <tr>\n",
       "      <th>previous</th>\n",
       "      <td>0.024365</td>\n",
       "      <td>0.020640</td>\n",
       "      <td>-0.079141</td>\n",
       "      <td>NaN</td>\n",
       "      <td>1.000000</td>\n",
       "      <td>-0.420489</td>\n",
       "      <td>-0.203130</td>\n",
       "      <td>-0.050936</td>\n",
       "      <td>-0.454494</td>\n",
       "      <td>-0.501333</td>\n",
       "      <td>0.587462</td>\n",
       "    </tr>\n",
       "    <tr>\n",
       "      <th>emp_var_rate</th>\n",
       "      <td>-0.000371</td>\n",
       "      <td>-0.027968</td>\n",
       "      <td>0.150754</td>\n",
       "      <td>NaN</td>\n",
       "      <td>-0.420489</td>\n",
       "      <td>1.000000</td>\n",
       "      <td>0.775334</td>\n",
       "      <td>0.196041</td>\n",
       "      <td>0.972245</td>\n",
       "      <td>0.906970</td>\n",
       "      <td>-0.270945</td>\n",
       "    </tr>\n",
       "    <tr>\n",
       "      <th>cons_price_idx</th>\n",
       "      <td>0.000857</td>\n",
       "      <td>0.005312</td>\n",
       "      <td>0.127836</td>\n",
       "      <td>NaN</td>\n",
       "      <td>-0.203130</td>\n",
       "      <td>0.775334</td>\n",
       "      <td>1.000000</td>\n",
       "      <td>0.058986</td>\n",
       "      <td>0.688230</td>\n",
       "      <td>0.522034</td>\n",
       "      <td>-0.078715</td>\n",
       "    </tr>\n",
       "    <tr>\n",
       "      <th>cons_conf_idx</th>\n",
       "      <td>0.129372</td>\n",
       "      <td>-0.008173</td>\n",
       "      <td>-0.013733</td>\n",
       "      <td>NaN</td>\n",
       "      <td>-0.050936</td>\n",
       "      <td>0.196041</td>\n",
       "      <td>0.058986</td>\n",
       "      <td>1.000000</td>\n",
       "      <td>0.277686</td>\n",
       "      <td>0.100513</td>\n",
       "      <td>0.091254</td>\n",
       "    </tr>\n",
       "    <tr>\n",
       "      <th>euribor3m</th>\n",
       "      <td>0.010767</td>\n",
       "      <td>-0.032897</td>\n",
       "      <td>0.135133</td>\n",
       "      <td>NaN</td>\n",
       "      <td>-0.454494</td>\n",
       "      <td>0.972245</td>\n",
       "      <td>0.688230</td>\n",
       "      <td>0.277686</td>\n",
       "      <td>1.000000</td>\n",
       "      <td>0.945154</td>\n",
       "      <td>-0.296920</td>\n",
       "    </tr>\n",
       "    <tr>\n",
       "      <th>nr_employed</th>\n",
       "      <td>-0.017725</td>\n",
       "      <td>-0.044703</td>\n",
       "      <td>0.144095</td>\n",
       "      <td>NaN</td>\n",
       "      <td>-0.501333</td>\n",
       "      <td>0.906970</td>\n",
       "      <td>0.522034</td>\n",
       "      <td>0.100513</td>\n",
       "      <td>0.945154</td>\n",
       "      <td>1.000000</td>\n",
       "      <td>-0.372682</td>\n",
       "    </tr>\n",
       "    <tr>\n",
       "      <th>wasPreviouslyContacted</th>\n",
       "      <td>0.034292</td>\n",
       "      <td>0.047634</td>\n",
       "      <td>-0.052569</td>\n",
       "      <td>NaN</td>\n",
       "      <td>0.587462</td>\n",
       "      <td>-0.270945</td>\n",
       "      <td>-0.078715</td>\n",
       "      <td>0.091254</td>\n",
       "      <td>-0.296920</td>\n",
       "      <td>-0.372682</td>\n",
       "      <td>1.000000</td>\n",
       "    </tr>\n",
       "  </tbody>\n",
       "</table>\n",
       "</div>"
      ]
     },
     "metadata": {},
     "execution_count": 183
    }
   ],
   "metadata": {}
  },
  {
   "cell_type": "code",
   "execution_count": null,
   "source": [
    "cols = encoder.getOutputCols()+numeric_features\r\n",
    "\r\n",
    "from pyspark.sql.functions import isnan, when, count, col\r\n",
    "df3.select([count(when(isnan(c), c)).alias(c) for c in numeric_features]).toPandas().head()"
   ],
   "outputs": [
    {
     "output_type": "execute_result",
     "data": {
      "text/plain": [
       "   age  duration  campaign  pdays  previous  emp_var_rate  cons_price_idx  \\\n",
       "0    0         0         0      0         0             0               0   \n",
       "\n",
       "   cons_conf_idx  euribor3m  nr_employed  wasPreviouslyContacted  \n",
       "0              0          0            0                       0  "
      ],
      "text/html": [
       "<div>\n",
       "<style scoped>\n",
       "    .dataframe tbody tr th:only-of-type {\n",
       "        vertical-align: middle;\n",
       "    }\n",
       "\n",
       "    .dataframe tbody tr th {\n",
       "        vertical-align: top;\n",
       "    }\n",
       "\n",
       "    .dataframe thead th {\n",
       "        text-align: right;\n",
       "    }\n",
       "</style>\n",
       "<table border=\"1\" class=\"dataframe\">\n",
       "  <thead>\n",
       "    <tr style=\"text-align: right;\">\n",
       "      <th></th>\n",
       "      <th>age</th>\n",
       "      <th>duration</th>\n",
       "      <th>campaign</th>\n",
       "      <th>pdays</th>\n",
       "      <th>previous</th>\n",
       "      <th>emp_var_rate</th>\n",
       "      <th>cons_price_idx</th>\n",
       "      <th>cons_conf_idx</th>\n",
       "      <th>euribor3m</th>\n",
       "      <th>nr_employed</th>\n",
       "      <th>wasPreviouslyContacted</th>\n",
       "    </tr>\n",
       "  </thead>\n",
       "  <tbody>\n",
       "    <tr>\n",
       "      <th>0</th>\n",
       "      <td>0</td>\n",
       "      <td>0</td>\n",
       "      <td>0</td>\n",
       "      <td>0</td>\n",
       "      <td>0</td>\n",
       "      <td>0</td>\n",
       "      <td>0</td>\n",
       "      <td>0</td>\n",
       "      <td>0</td>\n",
       "      <td>0</td>\n",
       "      <td>0</td>\n",
       "    </tr>\n",
       "  </tbody>\n",
       "</table>\n",
       "</div>"
      ]
     },
     "metadata": {},
     "execution_count": 107
    }
   ],
   "metadata": {}
  },
  {
   "cell_type": "code",
   "execution_count": null,
   "source": [
    "from pyspark.ml.feature import OneHotEncoder\r\n",
    "\r\n",
    "indexers = [\r\n",
    "    StringIndexer(inputCol= col, outputCol=\"{0}_indexed\".format(col))\r\n",
    "    for col in categorical_features\r\n",
    "]\r\n",
    "\r\n",
    "y_indexer = [StringIndexer(inputCol= \"y\",\r\n",
    "                          outputCol=\"label\")]\r\n",
    "\r\n",
    "encoder = OneHotEncoder(\r\n",
    "    inputCols=[indexer.getOutputCol() for indexer in indexers],\r\n",
    "    outputCols=[\r\n",
    "        \"{0}_encoded\".format(indexer.getOutputCol()) for indexer in indexers]\r\n",
    ")\r\n",
    "\r\n",
    "assembler = VectorAssembler(\r\n",
    "    inputCols=encoder.getOutputCols()+numeric_features,\r\n",
    "    outputCol=\"vectorized_features\"\r\n",
    ")\r\n",
    "\r\n",
    "scaler = StandardScaler()\\\r\n",
    "         .setInputCol (\"vectorized_features\")\\\r\n",
    "         .setOutputCol (\"scaled_features\")\r\n",
    "         #.setHandleInvalid(\"skip\")\r\n",
    "\r\n",
    "pipeline = Pipeline(stages=indexers + y_indexer + [encoder, assembler, scaler])\r\n",
    "df5 = pipeline.fit(df3).transform(df3)"
   ],
   "outputs": [],
   "metadata": {}
  },
  {
   "cell_type": "code",
   "execution_count": null,
   "source": [
    "import pandas as pd\n",
    "pd.set_option('display.max_colwidth', 80)\n",
    "pd.set_option(\"display.max_columns\", 12)"
   ],
   "outputs": [],
   "metadata": {}
  },
  {
   "cell_type": "code",
   "execution_count": null,
   "source": [
    "df5.toPandas().scaled_features.head()"
   ],
   "outputs": [
    {
     "output_type": "execute_result",
     "data": {
      "text/plain": [
       "0    (0.0, 0.0, 0.0, 0.0, 0.0, 0.0, 0.0, 0.0, 6.315223743272895, 0.0, 0.0, 2.0457...\n",
       "1    (0.0, 0.0, 0.0, 3.3887734219995416, 0.0, 0.0, 0.0, 0.0, 0.0, 0.0, 0.0, 2.045...\n",
       "2    (0.0, 0.0, 0.0, 3.3887734219995416, 0.0, 0.0, 0.0, 0.0, 0.0, 0.0, 0.0, 2.045...\n",
       "3    (2.300140577866327, 0.0, 0.0, 0.0, 0.0, 0.0, 0.0, 0.0, 0.0, 0.0, 0.0, 2.0457...\n",
       "4    (0.0, 0.0, 0.0, 3.3887734219995416, 0.0, 0.0, 0.0, 0.0, 0.0, 0.0, 0.0, 2.045...\n",
       "Name: scaled_features, dtype: object"
      ]
     },
     "metadata": {},
     "execution_count": 117
    }
   ],
   "metadata": {}
  },
  {
   "cell_type": "code",
   "execution_count": null,
   "source": [
    "train, test = df5.randomSplit([0.8, 0.2], seed = 2018)\n",
    "print(\"Training Dataset Count: \" + str(train.count()))\n",
    "print(\"Test Dataset Count: \" + str(test.count()))"
   ],
   "outputs": [
    {
     "output_type": "stream",
     "name": "stdout",
     "text": [
      "Training Dataset Count: 32894\n",
      "Test Dataset Count: 8294\n"
     ]
    }
   ],
   "metadata": {}
  },
  {
   "cell_type": "code",
   "execution_count": null,
   "source": [
    "df5.groupBy('label').count().show()"
   ],
   "outputs": [
    {
     "output_type": "stream",
     "name": "stdout",
     "text": [
      "+-----+-----+\n",
      "|label|count|\n",
      "+-----+-----+\n",
      "|  0.0|36548|\n",
      "|  1.0| 4640|\n",
      "+-----+-----+\n",
      "\n"
     ]
    }
   ],
   "metadata": {}
  },
  {
   "cell_type": "code",
   "execution_count": null,
   "source": [
    "from pyspark.ml.classification import LogisticRegression\n",
    "lr = LogisticRegression(featuresCol = 'scaled_features', labelCol = 'label', maxIter=15)\n",
    "lrModel = lr.fit(train)\n",
    "predictions = lrModel.transform(test)\n",
    "#predictions_train = lrModel.transform(train)\n",
    "predictions.select('label', 'scaled_features', 'rawPrediction', 'prediction', 'probability').toPandas().head(5)"
   ],
   "outputs": [
    {
     "output_type": "execute_result",
     "data": {
      "text/plain": [
       "   label  \\\n",
       "0    0.0   \n",
       "1    0.0   \n",
       "2    1.0   \n",
       "3    0.0   \n",
       "4    0.0   \n",
       "\n",
       "                                                                   scaled_features  \\\n",
       "0  (0.0, 0.0, 0.0, 0.0, 0.0, 0.0, 0.0, 0.0, 0.0, 0.0, 6.934878333042953, 0.0, 2...   \n",
       "1  (0.0, 0.0, 0.0, 0.0, 0.0, 0.0, 0.0, 0.0, 0.0, 0.0, 6.934878333042953, 0.0, 2...   \n",
       "2  (0.0, 0.0, 0.0, 0.0, 0.0, 0.0, 0.0, 0.0, 0.0, 0.0, 6.934878333042953, 0.0, 2...   \n",
       "3  (0.0, 0.0, 0.0, 0.0, 0.0, 0.0, 0.0, 0.0, 0.0, 0.0, 6.934878333042953, 0.0, 2...   \n",
       "4  (0.0, 0.0, 0.0, 0.0, 0.0, 0.0, 0.0, 0.0, 0.0, 0.0, 6.934878333042953, 0.0, 2...   \n",
       "\n",
       "                               rawPrediction  prediction  \\\n",
       "0    [4.234135526064389, -4.234135526064389]         0.0   \n",
       "1  [2.3563827007591804, -2.3563827007591804]         0.0   \n",
       "2  [0.6335396047995907, -0.6335396047995907]         0.0   \n",
       "3  [1.9861797575332183, -1.9861797575332183]         0.0   \n",
       "4    [2.500081830035878, -2.500081830035878]         0.0   \n",
       "\n",
       "                                 probability  \n",
       "0  [0.9857146943781643, 0.01428530562183572]  \n",
       "1  [0.9134402232576287, 0.08655977674237125]  \n",
       "2   [0.6532916230287572, 0.3467083769712428]  \n",
       "3  [0.8793383877266736, 0.12066161227332639]  \n",
       "4  [0.9241475563692972, 0.07585244363070276]  "
      ],
      "text/html": [
       "<div>\n",
       "<style scoped>\n",
       "    .dataframe tbody tr th:only-of-type {\n",
       "        vertical-align: middle;\n",
       "    }\n",
       "\n",
       "    .dataframe tbody tr th {\n",
       "        vertical-align: top;\n",
       "    }\n",
       "\n",
       "    .dataframe thead th {\n",
       "        text-align: right;\n",
       "    }\n",
       "</style>\n",
       "<table border=\"1\" class=\"dataframe\">\n",
       "  <thead>\n",
       "    <tr style=\"text-align: right;\">\n",
       "      <th></th>\n",
       "      <th>label</th>\n",
       "      <th>scaled_features</th>\n",
       "      <th>rawPrediction</th>\n",
       "      <th>prediction</th>\n",
       "      <th>probability</th>\n",
       "    </tr>\n",
       "  </thead>\n",
       "  <tbody>\n",
       "    <tr>\n",
       "      <th>0</th>\n",
       "      <td>0.0</td>\n",
       "      <td>(0.0, 0.0, 0.0, 0.0, 0.0, 0.0, 0.0, 0.0, 0.0, 0.0, 6.934878333042953, 0.0, 2...</td>\n",
       "      <td>[4.234135526064389, -4.234135526064389]</td>\n",
       "      <td>0.0</td>\n",
       "      <td>[0.9857146943781643, 0.01428530562183572]</td>\n",
       "    </tr>\n",
       "    <tr>\n",
       "      <th>1</th>\n",
       "      <td>0.0</td>\n",
       "      <td>(0.0, 0.0, 0.0, 0.0, 0.0, 0.0, 0.0, 0.0, 0.0, 0.0, 6.934878333042953, 0.0, 2...</td>\n",
       "      <td>[2.3563827007591804, -2.3563827007591804]</td>\n",
       "      <td>0.0</td>\n",
       "      <td>[0.9134402232576287, 0.08655977674237125]</td>\n",
       "    </tr>\n",
       "    <tr>\n",
       "      <th>2</th>\n",
       "      <td>1.0</td>\n",
       "      <td>(0.0, 0.0, 0.0, 0.0, 0.0, 0.0, 0.0, 0.0, 0.0, 0.0, 6.934878333042953, 0.0, 2...</td>\n",
       "      <td>[0.6335396047995907, -0.6335396047995907]</td>\n",
       "      <td>0.0</td>\n",
       "      <td>[0.6532916230287572, 0.3467083769712428]</td>\n",
       "    </tr>\n",
       "    <tr>\n",
       "      <th>3</th>\n",
       "      <td>0.0</td>\n",
       "      <td>(0.0, 0.0, 0.0, 0.0, 0.0, 0.0, 0.0, 0.0, 0.0, 0.0, 6.934878333042953, 0.0, 2...</td>\n",
       "      <td>[1.9861797575332183, -1.9861797575332183]</td>\n",
       "      <td>0.0</td>\n",
       "      <td>[0.8793383877266736, 0.12066161227332639]</td>\n",
       "    </tr>\n",
       "    <tr>\n",
       "      <th>4</th>\n",
       "      <td>0.0</td>\n",
       "      <td>(0.0, 0.0, 0.0, 0.0, 0.0, 0.0, 0.0, 0.0, 0.0, 0.0, 6.934878333042953, 0.0, 2...</td>\n",
       "      <td>[2.500081830035878, -2.500081830035878]</td>\n",
       "      <td>0.0</td>\n",
       "      <td>[0.9241475563692972, 0.07585244363070276]</td>\n",
       "    </tr>\n",
       "  </tbody>\n",
       "</table>\n",
       "</div>"
      ]
     },
     "metadata": {},
     "execution_count": 185
    }
   ],
   "metadata": {}
  },
  {
   "cell_type": "code",
   "execution_count": null,
   "source": [
    "\n",
    "lr2 = LogisticRegression(featuresCol = 'scaled_features', labelCol = 'label', maxIter=15)\n",
    "lrModel2 = lr2.fit(train_over)\n",
    "predictions2 = lrModel2.transform(test)\n",
    "#predictions_train = lrModel.transform(train)\n",
    "predictions2.select('label', 'scaled_features', 'rawPrediction', 'prediction', 'probability').toPandas().head(5)"
   ],
   "outputs": [
    {
     "output_type": "execute_result",
     "data": {
      "text/plain": [
       "   label  \\\n",
       "0    0.0   \n",
       "1    0.0   \n",
       "2    1.0   \n",
       "3    0.0   \n",
       "4    0.0   \n",
       "\n",
       "                                                                   scaled_features  \\\n",
       "0  (0.0, 0.0, 0.0, 0.0, 0.0, 0.0, 0.0, 0.0, 0.0, 0.0, 6.934878333042953, 0.0, 2...   \n",
       "1  (0.0, 0.0, 0.0, 0.0, 0.0, 0.0, 0.0, 0.0, 0.0, 0.0, 6.934878333042953, 0.0, 2...   \n",
       "2  (0.0, 0.0, 0.0, 0.0, 0.0, 0.0, 0.0, 0.0, 0.0, 0.0, 6.934878333042953, 0.0, 2...   \n",
       "3  (0.0, 0.0, 0.0, 0.0, 0.0, 0.0, 0.0, 0.0, 0.0, 0.0, 6.934878333042953, 0.0, 2...   \n",
       "4  (0.0, 0.0, 0.0, 0.0, 0.0, 0.0, 0.0, 0.0, 0.0, 0.0, 6.934878333042953, 0.0, 2...   \n",
       "\n",
       "                                 rawPrediction  prediction  \\\n",
       "0    [2.8302202832209176, -2.8302202832209176]         0.0   \n",
       "1  [0.39960898927414235, -0.39960898927414235]         0.0   \n",
       "2    [-2.0814646010197038, 2.0814646010197038]         1.0   \n",
       "3  [-0.09900582461533247, 0.09900582461533247]         1.0   \n",
       "4    [0.6384482752883258, -0.6384482752883258]         0.0   \n",
       "\n",
       "                                  probability  \n",
       "0  [0.9442871920615403, 0.055712807938459674]  \n",
       "1    [0.5985937119597964, 0.4014062880402036]  \n",
       "2   [0.11091145992397436, 0.8890885400760257]  \n",
       "3   [0.47526874217833387, 0.5247312578216661]  \n",
       "4      [0.654402606933156, 0.345597393066844]  "
      ],
      "text/html": [
       "<div>\n",
       "<style scoped>\n",
       "    .dataframe tbody tr th:only-of-type {\n",
       "        vertical-align: middle;\n",
       "    }\n",
       "\n",
       "    .dataframe tbody tr th {\n",
       "        vertical-align: top;\n",
       "    }\n",
       "\n",
       "    .dataframe thead th {\n",
       "        text-align: right;\n",
       "    }\n",
       "</style>\n",
       "<table border=\"1\" class=\"dataframe\">\n",
       "  <thead>\n",
       "    <tr style=\"text-align: right;\">\n",
       "      <th></th>\n",
       "      <th>label</th>\n",
       "      <th>scaled_features</th>\n",
       "      <th>rawPrediction</th>\n",
       "      <th>prediction</th>\n",
       "      <th>probability</th>\n",
       "    </tr>\n",
       "  </thead>\n",
       "  <tbody>\n",
       "    <tr>\n",
       "      <th>0</th>\n",
       "      <td>0.0</td>\n",
       "      <td>(0.0, 0.0, 0.0, 0.0, 0.0, 0.0, 0.0, 0.0, 0.0, 0.0, 6.934878333042953, 0.0, 2...</td>\n",
       "      <td>[2.8302202832209176, -2.8302202832209176]</td>\n",
       "      <td>0.0</td>\n",
       "      <td>[0.9442871920615403, 0.055712807938459674]</td>\n",
       "    </tr>\n",
       "    <tr>\n",
       "      <th>1</th>\n",
       "      <td>0.0</td>\n",
       "      <td>(0.0, 0.0, 0.0, 0.0, 0.0, 0.0, 0.0, 0.0, 0.0, 0.0, 6.934878333042953, 0.0, 2...</td>\n",
       "      <td>[0.39960898927414235, -0.39960898927414235]</td>\n",
       "      <td>0.0</td>\n",
       "      <td>[0.5985937119597964, 0.4014062880402036]</td>\n",
       "    </tr>\n",
       "    <tr>\n",
       "      <th>2</th>\n",
       "      <td>1.0</td>\n",
       "      <td>(0.0, 0.0, 0.0, 0.0, 0.0, 0.0, 0.0, 0.0, 0.0, 0.0, 6.934878333042953, 0.0, 2...</td>\n",
       "      <td>[-2.0814646010197038, 2.0814646010197038]</td>\n",
       "      <td>1.0</td>\n",
       "      <td>[0.11091145992397436, 0.8890885400760257]</td>\n",
       "    </tr>\n",
       "    <tr>\n",
       "      <th>3</th>\n",
       "      <td>0.0</td>\n",
       "      <td>(0.0, 0.0, 0.0, 0.0, 0.0, 0.0, 0.0, 0.0, 0.0, 0.0, 6.934878333042953, 0.0, 2...</td>\n",
       "      <td>[-0.09900582461533247, 0.09900582461533247]</td>\n",
       "      <td>1.0</td>\n",
       "      <td>[0.47526874217833387, 0.5247312578216661]</td>\n",
       "    </tr>\n",
       "    <tr>\n",
       "      <th>4</th>\n",
       "      <td>0.0</td>\n",
       "      <td>(0.0, 0.0, 0.0, 0.0, 0.0, 0.0, 0.0, 0.0, 0.0, 0.0, 6.934878333042953, 0.0, 2...</td>\n",
       "      <td>[0.6384482752883258, -0.6384482752883258]</td>\n",
       "      <td>0.0</td>\n",
       "      <td>[0.654402606933156, 0.345597393066844]</td>\n",
       "    </tr>\n",
       "  </tbody>\n",
       "</table>\n",
       "</div>"
      ]
     },
     "metadata": {},
     "execution_count": 186
    }
   ],
   "metadata": {}
  },
  {
   "cell_type": "code",
   "execution_count": null,
   "source": [
    "predictions.groupBy('label','prediction').count().show()"
   ],
   "outputs": [
    {
     "output_type": "stream",
     "name": "stdout",
     "text": [
      "+-----+----------+-----+\n",
      "|label|prediction|count|\n",
      "+-----+----------+-----+\n",
      "|  1.0|       1.0|  410|\n",
      "|  0.0|       1.0|  199|\n",
      "|  1.0|       0.0|  532|\n",
      "|  0.0|       0.0| 7153|\n",
      "+-----+----------+-----+\n",
      "\n"
     ]
    }
   ],
   "metadata": {}
  },
  {
   "cell_type": "code",
   "execution_count": null,
   "source": [
    "predictions2.groupBy('label','prediction').count().show()"
   ],
   "outputs": [
    {
     "output_type": "stream",
     "name": "stdout",
     "text": [
      "+-----+----------+-----+\n",
      "|label|prediction|count|\n",
      "+-----+----------+-----+\n",
      "|  1.0|       1.0|  831|\n",
      "|  0.0|       1.0|  975|\n",
      "|  1.0|       0.0|  111|\n",
      "|  0.0|       0.0| 6377|\n",
      "+-----+----------+-----+\n",
      "\n"
     ]
    }
   ],
   "metadata": {}
  },
  {
   "cell_type": "code",
   "execution_count": null,
   "source": [
    "class_names=[1.0,0.0]\n",
    "import itertools\n",
    "def plot_confusion_matrix(cm, classes,\n",
    "                          normalize=False,\n",
    "                          title='Confusion matrix',\n",
    "                          cmap=plt.cm.Blues):\n",
    "    \"\"\"\n",
    "    This function prints and plots the confusion matrix.\n",
    "    Normalization can be applied by setting `normalize=True`.\n",
    "    \"\"\"\n",
    "    if normalize:\n",
    "        cm = cm.astype('float') / cm.sum(axis=1)[:, np.newaxis]\n",
    "        print(\"Normalized confusion matrix\")\n",
    "    else:\n",
    "        print('Confusion matrix, without normalization')\n",
    "\n",
    "    print(cm)\n",
    "\n",
    "    plt.imshow(cm, interpolation='nearest', cmap=cmap)\n",
    "    plt.title(title)\n",
    "    plt.colorbar()\n",
    "    tick_marks = np.arange(len(classes))\n",
    "    plt.xticks(tick_marks, classes, rotation=45)\n",
    "    plt.yticks(tick_marks, classes)\n",
    "\n",
    "    fmt = '.2f' if normalize else 'd'\n",
    "    thresh = cm.max() / 2.\n",
    "    for i, j in itertools.product(range(cm.shape[0]), range(cm.shape[1])):\n",
    "        plt.text(j, i, format(cm[i, j], fmt),\n",
    "                 horizontalalignment=\"center\",\n",
    "                 color=\"white\" if cm[i, j] > thresh else \"black\")\n",
    "\n",
    "    plt.tight_layout()\n",
    "    plt.ylabel('True label')\n",
    "    plt.xlabel('Predicted label')"
   ],
   "outputs": [],
   "metadata": {}
  },
  {
   "cell_type": "code",
   "execution_count": null,
   "source": [
    "y_true = predictions.select(\"label\")\n",
    "y_true = y_true.toPandas()\n",
    "\n",
    "y_pred = predictions.select(\"prediction\")\n",
    "y_pred = y_pred.toPandas()\n",
    "\n",
    "cnf_matrix = confusion_matrix(y_true, y_pred,labels=class_names)\n",
    "#cnf_matrix\n",
    "plt.figure()\n",
    "plot_confusion_matrix(cnf_matrix, classes=class_names,\n",
    "                      title='Confusion matrix')\n",
    "plt.show()"
   ],
   "outputs": [
    {
     "output_type": "stream",
     "name": "stdout",
     "text": [
      "Confusion matrix, without normalization\n",
      "[[ 410  532]\n",
      " [ 199 7153]]\n"
     ]
    },
    {
     "output_type": "display_data",
     "data": {
      "text/plain": [
       "<Figure size 640x480 with 2 Axes>"
      ],
      "image/png": "[encoded data removed]"
     },
     "metadata": {}
    }
   ],
   "metadata": {}
  },
  {
   "cell_type": "code",
   "execution_count": null,
   "source": [
    "y_true = predictions2.select(\"label\")\n",
    "y_true = y_true.toPandas()\n",
    "\n",
    "y_pred = predictions2.select(\"prediction\")\n",
    "y_pred = y_pred.toPandas()\n",
    "\n",
    "cnf_matrix = confusion_matrix(y_true, y_pred,labels=class_names)\n",
    "#cnf_matrix\n",
    "plt.figure()\n",
    "plot_confusion_matrix(cnf_matrix, classes=class_names,\n",
    "                      title='Confusion matrix')\n",
    "plt.show()"
   ],
   "outputs": [
    {
     "output_type": "stream",
     "name": "stdout",
     "text": [
      "Confusion matrix, without normalization\n",
      "[[ 831  111]\n",
      " [ 975 6377]]\n"
     ]
    },
    {
     "output_type": "display_data",
     "data": {
      "text/plain": [
       "<Figure size 640x480 with 2 Axes>"
      ],
      "image/png": "[encoded data removed]"
     },
     "metadata": {}
    }
   ],
   "metadata": {}
  },
  {
   "cell_type": "code",
   "execution_count": null,
   "source": [
    "accuracy = predictions.filter(predictions.label == predictions.prediction).count() / float(predictions.count())\n",
    "print(\"Accuracy : \",accuracy)"
   ],
   "outputs": [
    {
     "output_type": "stream",
     "name": "stdout",
     "text": [
      "Accuracy :  0.9118639980708946\n"
     ]
    }
   ],
   "metadata": {}
  },
  {
   "cell_type": "code",
   "execution_count": null,
   "source": [
    "accuracy = predictions2.filter(predictions.label == predictions2.prediction).count() / float(predictions2.count())\n",
    "print(\"Accuracy : \",accuracy)"
   ],
   "outputs": [
    {
     "output_type": "stream",
     "name": "stdout",
     "text": [
      "Accuracy :  0.8690619725102484\n"
     ]
    }
   ],
   "metadata": {}
  },
  {
   "cell_type": "code",
   "execution_count": null,
   "source": [
    "trainingSummary = lrModel.summary\n",
    "roc = trainingSummary.roc.toPandas()\n",
    "plt.plot(roc['FPR'],roc['TPR'])\n",
    "plt.ylabel('False Positive Rate')\n",
    "plt.xlabel('True Positive Rate')\n",
    "plt.title('ROC Curve')\n",
    "plt.show()\n",
    "print('Training set areaUnderROC: ' + str(trainingSummary.areaUnderROC))"
   ],
   "outputs": [
    {
     "output_type": "display_data",
     "data": {
      "text/plain": [
       "<Figure size 640x480 with 1 Axes>"
      ],
      "image/png": "[encoded data removed]"
     },
     "metadata": {}
    },
    {
     "output_type": "stream",
     "name": "stdout",
     "text": [
      "Training set areaUnderROC: 0.9381170319495461\n"
     ]
    }
   ],
   "metadata": {}
  },
  {
   "cell_type": "code",
   "execution_count": null,
   "source": [
    "from pyspark.ml.evaluation import BinaryClassificationEvaluator\n",
    "evaluator = BinaryClassificationEvaluator()\n",
    "print('Test Area Under ROC', evaluator.evaluate(predictions))\n",
    "print('Test Area Under ROC oversampled', evaluator.evaluate(predictions2))"
   ],
   "outputs": [
    {
     "output_type": "stream",
     "name": "stdout",
     "text": [
      "Test Area Under ROC 0.9369017833008724\n",
      "Test Area Under ROC oversampled 0.9410510362736191\n"
     ]
    }
   ],
   "metadata": {}
  },
  {
   "cell_type": "code",
   "execution_count": null,
   "source": [
    "from pyspark.ml.tuning import ParamGridBuilder, CrossValidator\n",
    "\n",
    "# Create ParamGrid for Cross Validation\n",
    "paramGrid = (ParamGridBuilder()\n",
    "             .addGrid(lr.regParam, [0.01, 0.5, 2.0])# regularization parameter\n",
    "             .addGrid(lr.elasticNetParam, [0.0, 0.5, 1.0])# Elastic Net Parameter (Ridge = 0)\n",
    "             .addGrid(lr.maxIter, [1, 5, 10])#Number of iterations\n",
    "             .build())\n",
    "\n",
    "cv = CrossValidator(estimator=lr, estimatorParamMaps=paramGrid, \n",
    "                    evaluator=evaluator, numFolds=5)\n",
    "\n",
    "cvModel = cv.fit(train_over)"
   ],
   "outputs": [],
   "metadata": {}
  },
  {
   "cell_type": "code",
   "execution_count": null,
   "source": [
    "## Evaluate Best Model\n",
    "predictions = cvModel.transform(test)\n",
    "print('Best Model Test Area Under ROC', evaluator.evaluate(predictions))"
   ],
   "outputs": [
    {
     "output_type": "stream",
     "name": "stdout",
     "text": [
      "Best Model Test Area Under ROC 0.9396236476230736\n"
     ]
    }
   ],
   "metadata": {}
  },
  {
   "cell_type": "code",
   "execution_count": null,
   "source": [
    "cvModel.bestModel"
   ],
   "outputs": [
    {
     "output_type": "execute_result",
     "data": {
      "text/plain": [
       "LogisticRegressionModel: uid=LogisticRegression_d49481dbb0bc, numClasses=2, numFeatures=54"
      ]
     },
     "metadata": {},
     "execution_count": 177
    }
   ],
   "metadata": {}
  },
  {
   "cell_type": "code",
   "execution_count": null,
   "source": [
    "weights = cvModel.bestModel.coefficients\n",
    "weights = [(float(w),) for w in weights]\n",
    "weightsDF = sqlContext.createDataFrame(weights, [\"Feature Weight\"])\n",
    "weightsDF.toPandas().head(10)"
   ],
   "outputs": [
    {
     "output_type": "execute_result",
     "data": {
      "text/plain": [
       "   Feature Weight\n",
       "0        0.000000\n",
       "1       -0.093164\n",
       "2        0.000000\n",
       "3       -0.016581\n",
       "4        0.000000\n",
       "5        0.054526\n",
       "6        0.000000\n",
       "7        0.000000\n",
       "8        0.000000\n",
       "9        0.000000"
      ],
      "text/html": [
       "<div>\n",
       "<style scoped>\n",
       "    .dataframe tbody tr th:only-of-type {\n",
       "        vertical-align: middle;\n",
       "    }\n",
       "\n",
       "    .dataframe tbody tr th {\n",
       "        vertical-align: top;\n",
       "    }\n",
       "\n",
       "    .dataframe thead th {\n",
       "        text-align: right;\n",
       "    }\n",
       "</style>\n",
       "<table border=\"1\" class=\"dataframe\">\n",
       "  <thead>\n",
       "    <tr style=\"text-align: right;\">\n",
       "      <th></th>\n",
       "      <th>Feature Weight</th>\n",
       "    </tr>\n",
       "  </thead>\n",
       "  <tbody>\n",
       "    <tr>\n",
       "      <th>0</th>\n",
       "      <td>0.000000</td>\n",
       "    </tr>\n",
       "    <tr>\n",
       "      <th>1</th>\n",
       "      <td>-0.093164</td>\n",
       "    </tr>\n",
       "    <tr>\n",
       "      <th>2</th>\n",
       "      <td>0.000000</td>\n",
       "    </tr>\n",
       "    <tr>\n",
       "      <th>3</th>\n",
       "      <td>-0.016581</td>\n",
       "    </tr>\n",
       "    <tr>\n",
       "      <th>4</th>\n",
       "      <td>0.000000</td>\n",
       "    </tr>\n",
       "    <tr>\n",
       "      <th>5</th>\n",
       "      <td>0.054526</td>\n",
       "    </tr>\n",
       "    <tr>\n",
       "      <th>6</th>\n",
       "      <td>0.000000</td>\n",
       "    </tr>\n",
       "    <tr>\n",
       "      <th>7</th>\n",
       "      <td>0.000000</td>\n",
       "    </tr>\n",
       "    <tr>\n",
       "      <th>8</th>\n",
       "      <td>0.000000</td>\n",
       "    </tr>\n",
       "    <tr>\n",
       "      <th>9</th>\n",
       "      <td>0.000000</td>\n",
       "    </tr>\n",
       "  </tbody>\n",
       "</table>\n",
       "</div>"
      ]
     },
     "metadata": {},
     "execution_count": 178
    }
   ],
   "metadata": {}
  },
  {
   "cell_type": "code",
   "execution_count": null,
   "source": [
    "best_model=cvModel.bestModel"
   ],
   "outputs": [],
   "metadata": {}
  },
  {
   "cell_type": "code",
   "execution_count": null,
   "source": [
    "best_model.explainParams().split(\"\\n\")"
   ],
   "outputs": [
    {
     "output_type": "execute_result",
     "data": {
      "text/plain": [
       "['aggregationDepth: suggested depth for treeAggregate (>= 2). (default: 2)',\n",
       " 'elasticNetParam: the ElasticNet mixing parameter, in range [0, 1]. For alpha = 0, the penalty is an L2 penalty. For alpha = 1, it is an L1 penalty. (default: 0.0, current: 0.5)',\n",
       " 'family: The name of family which is a description of the label distribution to be used in the model. Supported options: auto, binomial, multinomial (default: auto)',\n",
       " 'featuresCol: features column name. (default: features, current: scaled_features)',\n",
       " 'fitIntercept: whether to fit an intercept term. (default: True)',\n",
       " 'labelCol: label column name. (default: label, current: label)',\n",
       " 'lowerBoundsOnCoefficients: The lower bounds on coefficients if fitting under bound constrained optimization. The bound matrix must be compatible with the shape (1, number of features) for binomial regression, or (number of classes, number of features) for multinomial regression. (undefined)',\n",
       " 'lowerBoundsOnIntercepts: The lower bounds on intercepts if fitting under bound constrained optimization. The bounds vector size must beequal with 1 for binomial regression, or the number oflasses for multinomial regression. (undefined)',\n",
       " 'maxBlockSizeInMB: maximum memory in MB for stacking input data into blocks. Data is stacked within partitions. If more than remaining data size in a partition then it is adjusted to the data size. Default 0.0 represents choosing optimal value, depends on specific algorithm. Must be >= 0. (default: 0.0)',\n",
       " 'maxIter: max number of iterations (>= 0). (default: 100, current: 10)',\n",
       " 'predictionCol: prediction column name. (default: prediction)',\n",
       " 'probabilityCol: Column name for predicted class conditional probabilities. Note: Not all models output well-calibrated probability estimates! These probabilities should be treated as confidences, not precise probabilities. (default: probability)',\n",
       " 'rawPredictionCol: raw prediction (a.k.a. confidence) column name. (default: rawPrediction)',\n",
       " 'regParam: regularization parameter (>= 0). (default: 0.0, current: 0.01)',\n",
       " 'standardization: whether to standardize the training features before fitting the model. (default: True)',\n",
       " 'threshold: Threshold in binary classification prediction, in range [0, 1]. If threshold and thresholds are both set, they must match.e.g. if threshold is p, then thresholds must be equal to [1-p, p]. (default: 0.5)',\n",
       " \"thresholds: Thresholds in multi-class classification to adjust the probability of predicting each class. Array must have length equal to the number of classes, with values > 0, excepting that at most one value may be 0. The class with largest value p/t is predicted, where p is the original probability of that class and t is the class's threshold. (undefined)\",\n",
       " 'tol: the convergence tolerance for iterative algorithms (>= 0). (default: 1e-06)',\n",
       " 'upperBoundsOnCoefficients: The upper bounds on coefficients if fitting under bound constrained optimization. The bound matrix must be compatible with the shape (1, number of features) for binomial regression, or (number of classes, number of features) for multinomial regression. (undefined)',\n",
       " 'upperBoundsOnIntercepts: The upper bounds on intercepts if fitting under bound constrained optimization. The bound vector size must be equal with 1 for binomial regression, or the number of classes for multinomial regression. (undefined)',\n",
       " 'weightCol: weight column name. If this is not set or empty, we treat all instance weights as 1.0. (undefined)']"
      ]
     },
     "metadata": {},
     "execution_count": 180
    }
   ],
   "metadata": {}
  },
  {
   "cell_type": "code",
   "execution_count": null,
   "source": [
    "y_true = predictions.select(\"label\")\r\n",
    "y_true = y_true.toPandas()\r\n",
    "\r\n",
    "y_pred = predictions.select(\"prediction\")\r\n",
    "y_pred = y_pred.toPandas()\r\n",
    "\r\n",
    "cnf_matrix = confusion_matrix(y_true, y_pred,labels=class_names)\r\n",
    "#cnf_matrix\r\n",
    "plt.figure()\r\n",
    "plot_confusion_matrix(cnf_matrix, classes=class_names,\r\n",
    "                      title='Confusion matrix')\r\n",
    "plt.show()"
   ],
   "outputs": [
    {
     "output_type": "stream",
     "name": "stdout",
     "text": [
      "Confusion matrix, without normalization\n",
      "[[ 822  120]\n",
      " [ 968 6384]]\n"
     ]
    },
    {
     "output_type": "display_data",
     "data": {
      "text/plain": [
       "<Figure size 640x480 with 2 Axes>"
      ],
      "image/png": "[encoded data removed]"
     },
     "metadata": {}
    }
   ],
   "metadata": {}
  },
  {
   "cell_type": "code",
   "execution_count": null,
   "source": [
    "major_df = df5.filter(col(\"label\") == 0)\r\n",
    "minor_df = df5.filter(col(\"label\") == 1)\r\n",
    "ratio = int(major_df.count()/minor_df.count())\r\n",
    "print(\"ratio: {}\".format(ratio))"
   ],
   "outputs": [
    {
     "output_type": "stream",
     "name": "stdout",
     "text": [
      "ratio: 7\n"
     ]
    }
   ],
   "metadata": {}
  },
  {
   "cell_type": "code",
   "execution_count": null,
   "source": [
    "a = range(ratio)"
   ],
   "outputs": [],
   "metadata": {}
  },
  {
   "cell_type": "code",
   "execution_count": null,
   "source": [
    "from pyspark.sql.functions import col, explode, array, lit\r\n",
    "# duplicate the minority rows\r\n",
    "oversampled_df = minor_df.withColumn(\"dummy\", explode(array([lit(x) for x in a]))).drop('dummy')"
   ],
   "outputs": [],
   "metadata": {}
  },
  {
   "cell_type": "code",
   "execution_count": null,
   "source": [
    "# combine both oversampled minority rows and previous majority rows \r\n",
    "combined_df = major_df.unionAll(oversampled_df)"
   ],
   "outputs": [],
   "metadata": {}
  },
  {
   "cell_type": "code",
   "execution_count": null,
   "source": [
    "train_over, test_over = combined_df.randomSplit([0.8, 0.2], seed = 2018)\r\n",
    "print(\"Training Dataset Count: \" + str(train.count()))\r\n",
    "print(\"Test Dataset Count: \" + str(test.count()))"
   ],
   "outputs": [
    {
     "output_type": "stream",
     "name": "stdout",
     "text": [
      "Training Dataset Count: 55222\n",
      "Test Dataset Count: 13806\n"
     ]
    }
   ],
   "metadata": {}
  },
  {
   "cell_type": "code",
   "execution_count": null,
   "source": [
    "train.groupBy('label').count().show()"
   ],
   "outputs": [
    {
     "output_type": "stream",
     "name": "stdout",
     "text": [
      "+-----+-----+\n",
      "|label|count|\n",
      "+-----+-----+\n",
      "|  0.0|29196|\n",
      "|  1.0| 3698|\n",
      "+-----+-----+\n",
      "\n"
     ]
    }
   ],
   "metadata": {}
  },
  {
   "cell_type": "code",
   "execution_count": null,
   "source": [
    "train_over.groupBy('label').count().show()"
   ],
   "outputs": [
    {
     "output_type": "stream",
     "name": "stdout",
     "text": [
      "+-----+-----+\n",
      "|label|count|\n",
      "+-----+-----+\n",
      "|  0.0|29185|\n",
      "|  1.0|26037|\n",
      "+-----+-----+\n",
      "\n"
     ]
    }
   ],
   "metadata": {}
  },
  {
   "cell_type": "code",
   "execution_count": 121,
   "source": [
    "   # Bivariate Analysis between y and job\r\n",
    "df_renamed.stat.crosstab(\"y\",\"job\").show()"
   ],
   "outputs": [
    {
     "output_type": "stream",
     "name": "stdout",
     "text": [
      "+-----+------+-----------+------------+---------+----------+-------+-------------+--------+-------+----------+----------+-------+\n",
      "|y_job|admin.|blue-collar|entrepreneur|housemaid|management|retired|self-employed|services|student|technician|unemployed|unknown|\n",
      "+-----+------+-----------+------------+---------+----------+-------+-------------+--------+-------+----------+----------+-------+\n",
      "|  yes|  1352|        638|         124|      106|       328|    434|          149|     323|    275|       730|       144|     37|\n",
      "|   no|  9070|       8616|        1332|      954|      2596|   1286|         1272|    3646|    600|      6013|       870|    293|\n",
      "+-----+------+-----------+------------+---------+----------+-------+-------------+--------+-------+----------+----------+-------+\n",
      "\n"
     ]
    }
   ],
   "metadata": {}
  },
  {
   "cell_type": "code",
   "execution_count": 122,
   "source": [
    "   # Bivariate Analysis between y and marital\r\n",
    "df_renamed.stat.crosstab(\"y\",\"marital\").show()"
   ],
   "outputs": [
    {
     "output_type": "stream",
     "name": "stdout",
     "text": [
      "+---------+--------+-------+------+-------+\n",
      "|y_marital|divorced|married|single|unknown|\n",
      "+---------+--------+-------+------+-------+\n",
      "|       no|    4136|  22396|  9948|     68|\n",
      "|      yes|     476|   2532|  1620|     12|\n",
      "+---------+--------+-------+------+-------+\n",
      "\n"
     ]
    }
   ],
   "metadata": {}
  },
  {
   "cell_type": "code",
   "execution_count": null,
   "source": [
    "   # Bivariate Analysis between y and education\r\n",
    "df_renamed.stat.crosstab(\"y\",\"education\").show()"
   ],
   "outputs": [],
   "metadata": {}
  },
  {
   "cell_type": "code",
   "execution_count": null,
   "source": [
    "   # Bivariate Analysis between y and default\r\n",
    "df_renamed.stat.crosstab(\"y\",\"default\").show()"
   ],
   "outputs": [],
   "metadata": {}
  },
  {
   "cell_type": "code",
   "execution_count": null,
   "source": [
    "   # Bivariate Analysis between y and housing\r\n",
    "df_renamed.stat.crosstab(\"y\",\"housing\").show()"
   ],
   "outputs": [],
   "metadata": {}
  },
  {
   "cell_type": "code",
   "execution_count": null,
   "source": [
    "   # Bivariate Analysis between y and loan\r\n",
    "df_renamed.stat.crosstab(\"y\",\"loan\").show()"
   ],
   "outputs": [],
   "metadata": {}
  },
  {
   "cell_type": "code",
   "execution_count": null,
   "source": [
    "   # Bivariate Analysis between y and contact\r\n",
    "df_renamed.stat.crosstab(\"y\",\"contact\").show()"
   ],
   "outputs": [],
   "metadata": {}
  },
  {
   "cell_type": "code",
   "execution_count": null,
   "source": [
    "   # Bivariate Analysis between y and month\r\n",
    "df_renamed.stat.crosstab(\"y\",\"month\").show()"
   ],
   "outputs": [],
   "metadata": {}
  },
  {
   "cell_type": "code",
   "execution_count": null,
   "source": [
    "   # Bivariate Analysis between y and day_of_week\r\n",
    "df_renamed.stat.crosstab(\"y\",\"day_of_week\").show()"
   ],
   "outputs": [],
   "metadata": {}
  },
  {
   "cell_type": "code",
   "execution_count": null,
   "source": [
    "   # Bivariate Analysis between y and poutcome\r\n",
    "df_renamed.stat.crosstab(\"y\",\"poutcome\").show()"
   ],
   "outputs": [],
   "metadata": {}
  },
  {
   "cell_type": "code",
   "execution_count": 125,
   "source": [
    "# Bivariate Analysis between y and duration\r\n",
    "df_renamed.groupBy(\"y\").sum(\"duration\").show()\r\n",
    "df_renamed.groupBy(\"y\").agg(count(\"duration\")).show()\r\n",
    "df_renamed.groupBy(\"y\").max(\"duration\").show()\r\n",
    "df_renamed.groupBy(\"y\").min(\"duration\").show()\r\n",
    "df_renamed.groupBy(\"y\").mean(\"duration\").show()"
   ],
   "outputs": [
    {
     "output_type": "stream",
     "name": "stdout",
     "text": [
      "+---+-------------+\n",
      "|  y|sum(duration)|\n",
      "+---+-------------+\n",
      "| no|      8071436|\n",
      "|yes|      2566807|\n",
      "+---+-------------+\n",
      "\n",
      "+---+---------------+\n",
      "|  y|count(duration)|\n",
      "+---+---------------+\n",
      "| no|          36548|\n",
      "|yes|           4640|\n",
      "+---+---------------+\n",
      "\n",
      "+---+-------------+\n",
      "|  y|max(duration)|\n",
      "+---+-------------+\n",
      "| no|         4918|\n",
      "|yes|         4199|\n",
      "+---+-------------+\n",
      "\n",
      "+---+-------------+\n",
      "|  y|min(duration)|\n",
      "+---+-------------+\n",
      "| no|            0|\n",
      "|yes|           37|\n",
      "+---+-------------+\n",
      "\n",
      "+---+------------------+\n",
      "|  y|     avg(duration)|\n",
      "+---+------------------+\n",
      "| no|220.84480682937507|\n",
      "|yes| 553.1911637931034|\n",
      "+---+------------------+\n",
      "\n"
     ]
    }
   ],
   "metadata": {}
  },
  {
   "cell_type": "code",
   "execution_count": 126,
   "source": [
    "# Bivariate Analysis between y and campaign\r\n",
    "df_renamed.groupBy(\"y\").sum(\"campaign\").show()\r\n",
    "df_renamed.groupBy(\"y\").agg(count(\"campaign\")).show()\r\n",
    "df_renamed.groupBy(\"y\").max(\"campaign\").show()\r\n",
    "df_renamed.groupBy(\"y\").min(\"campaign\").show()\r\n",
    "df_renamed.groupBy(\"y\").mean(\"campaign\").show()"
   ],
   "outputs": [
    {
     "output_type": "stream",
     "name": "stdout",
     "text": [
      "+---+-------------+\n",
      "|  y|sum(campaign)|\n",
      "+---+-------------+\n",
      "| no|        96234|\n",
      "|yes|         9520|\n",
      "+---+-------------+\n",
      "\n",
      "+---+---------------+\n",
      "|  y|count(campaign)|\n",
      "+---+---------------+\n",
      "| no|          36548|\n",
      "|yes|           4640|\n",
      "+---+---------------+\n",
      "\n",
      "+---+-------------+\n",
      "|  y|max(campaign)|\n",
      "+---+-------------+\n",
      "| no|           56|\n",
      "|yes|           23|\n",
      "+---+-------------+\n",
      "\n",
      "+---+-------------+\n",
      "|  y|min(campaign)|\n",
      "+---+-------------+\n",
      "| no|            1|\n",
      "|yes|            1|\n",
      "+---+-------------+\n",
      "\n",
      "+---+------------------+\n",
      "|  y|     avg(campaign)|\n",
      "+---+------------------+\n",
      "| no|2.6330852577432418|\n",
      "|yes|2.0517241379310347|\n",
      "+---+------------------+\n",
      "\n"
     ]
    }
   ],
   "metadata": {}
  },
  {
   "cell_type": "code",
   "execution_count": null,
   "source": [
    "# Bivariate Analysis between y and age\r\n",
    "df_renamed.groupBy(\"y\").sum(\"age\").show()\r\n",
    "df_renamed.groupBy(\"y\").agg(count(\"age\")).show()\r\n",
    "df_renamed.groupBy(\"y\").max(\"age\").show()\r\n",
    "df_renamed.groupBy(\"y\").min(\"age\").show()\r\n",
    "df_renamed.groupBy(\"y\").mean(\"age\").show()"
   ],
   "outputs": [],
   "metadata": {}
  },
  {
   "cell_type": "code",
   "execution_count": null,
   "source": [
    "# Bivariate Analysis between y and pdays\r\n",
    "df_renamed.groupBy(\"y\").sum(\"pdays\").show()\r\n",
    "df_renamed.groupBy(\"y\").agg(count(\"pdays\")).show()\r\n",
    "df_renamed.groupBy(\"y\").max(\"pdays\").show()\r\n",
    "df_renamed.groupBy(\"y\").min(\"pdays\").show()\r\n",
    "df_renamed.groupBy(\"y\").mean(\"pdays\").show()"
   ],
   "outputs": [],
   "metadata": {}
  },
  {
   "cell_type": "code",
   "execution_count": null,
   "source": [
    "# Bivariate Analysis between y and previous\r\n",
    "df_renamed.groupBy(\"y\").sum(\"previous\").show()\r\n",
    "df_renamed.groupBy(\"y\").agg(count(\"previous\")).show()\r\n",
    "df_renamed.groupBy(\"y\").max(\"previous\").show()\r\n",
    "df_renamed.groupBy(\"y\").min(\"previous\").show()\r\n",
    "df_renamed.groupBy(\"y\").mean(\"previous\").show()"
   ],
   "outputs": [],
   "metadata": {}
  },
  {
   "cell_type": "code",
   "execution_count": 127,
   "source": [
    "# Bivariate Analysis between y and emp_var_rate\r\n",
    "df_renamed.groupBy(\"y\").sum(\"emp_var_rate\").show()\r\n",
    "df_renamed.groupBy(\"y\").agg(count(\"emp_var_rate\")).show()\r\n",
    "df_renamed.groupBy(\"y\").max(\"emp_var_rate\").show()\r\n",
    "df_renamed.groupBy(\"y\").min(\"emp_var_rate\").show()\r\n",
    "df_renamed.groupBy(\"y\").mean(\"emp_var_rate\").show()"
   ],
   "outputs": [
    {
     "output_type": "stream",
     "name": "stdout",
     "text": [
      "+---+-------------------+\n",
      "|  y|  sum(emp_var_rate)|\n",
      "+---+-------------------+\n",
      "| no|  9095.900000020541|\n",
      "|yes|-5723.2000000000535|\n",
      "+---+-------------------+\n",
      "\n",
      "+---+-------------------+\n",
      "|  y|count(emp_var_rate)|\n",
      "+---+-------------------+\n",
      "| no|              36548|\n",
      "|yes|               4640|\n",
      "+---+-------------------+\n",
      "\n",
      "+---+-----------------+\n",
      "|  y|max(emp_var_rate)|\n",
      "+---+-----------------+\n",
      "| no|              1.4|\n",
      "|yes|              1.4|\n",
      "+---+-----------------+\n",
      "\n",
      "+---+-----------------+\n",
      "|  y|min(emp_var_rate)|\n",
      "+---+-----------------+\n",
      "| no|             -3.4|\n",
      "|yes|             -3.4|\n",
      "+---+-----------------+\n",
      "\n",
      "+---+-------------------+\n",
      "|  y|  avg(emp_var_rate)|\n",
      "+---+-------------------+\n",
      "| no| 0.2488754514616543|\n",
      "|yes|-1.2334482758620804|\n",
      "+---+-------------------+\n",
      "\n"
     ]
    }
   ],
   "metadata": {}
  },
  {
   "cell_type": "code",
   "execution_count": null,
   "source": [
    "# Bivariate Analysis between y and cons_price_idx\r\n",
    "df_renamed.groupBy(\"y\").sum(\"cons_price_idx\").show()\r\n",
    "df_renamed.groupBy(\"y\").agg(count(\"cons_price_idx\")).show()\r\n",
    "df_renamed.groupBy(\"y\").max(\"cons_price_idx\").show()\r\n",
    "df_renamed.groupBy(\"y\").min(\"cons_price_idx\").show()\r\n",
    "df_renamed.groupBy(\"y\").mean(\"cons_price_idx\").show()"
   ],
   "outputs": [],
   "metadata": {}
  },
  {
   "cell_type": "code",
   "execution_count": null,
   "source": [
    "# Bivariate Analysis between y and cons_conf_idx\r\n",
    "df_renamed.groupBy(\"y\").sum(\"cons_conf_idx\").show()\r\n",
    "df_renamed.groupBy(\"y\").agg(count(\"cons_conf_idx\")).show()\r\n",
    "df_renamed.groupBy(\"y\").max(\"cons_conf_idx\").show()\r\n",
    "df_renamed.groupBy(\"y\").min(\"cons_conf_idx\").show()\r\n",
    "df_renamed.groupBy(\"y\").mean(\"cons_conf_idx\").show()"
   ],
   "outputs": [],
   "metadata": {}
  },
  {
   "cell_type": "code",
   "execution_count": 128,
   "source": [
    "# Bivariate Analysis between y and euribor3m\r\n",
    "df_renamed.groupBy(\"y\").sum(\"euribor3m\").show()\r\n",
    "df_renamed.groupBy(\"y\").agg(count(\"euribor3m\")).show()\r\n",
    "df_renamed.groupBy(\"y\").max(\"euribor3m\").show()\r\n",
    "df_renamed.groupBy(\"y\").min(\"euribor3m\").show()\r\n",
    "df_renamed.groupBy(\"y\").mean(\"euribor3m\").show()"
   ],
   "outputs": [
    {
     "output_type": "stream",
     "name": "stdout",
     "text": [
      "+---+------------------+\n",
      "|  y|    sum(euribor3m)|\n",
      "+---+------------------+\n",
      "| no|139302.37900000674|\n",
      "|yes| 9851.346999999943|\n",
      "+---+------------------+\n",
      "\n",
      "+---+----------------+\n",
      "|  y|count(euribor3m)|\n",
      "+---+----------------+\n",
      "| no|           36548|\n",
      "|yes|            4640|\n",
      "+---+----------------+\n",
      "\n",
      "+---+--------------+\n",
      "|  y|max(euribor3m)|\n",
      "+---+--------------+\n",
      "| no|         5.045|\n",
      "|yes|         5.045|\n",
      "+---+--------------+\n",
      "\n",
      "+---+--------------+\n",
      "|  y|min(euribor3m)|\n",
      "+---+--------------+\n",
      "| no|         0.634|\n",
      "|yes|         0.634|\n",
      "+---+--------------+\n",
      "\n",
      "+---+------------------+\n",
      "|  y|    avg(euribor3m)|\n",
      "+---+------------------+\n",
      "| no|3.8114911623072874|\n",
      "|yes|2.1231351293103327|\n",
      "+---+------------------+\n",
      "\n"
     ]
    }
   ],
   "metadata": {}
  },
  {
   "cell_type": "code",
   "execution_count": 129,
   "source": [
    "# Bivariate Analysis between y and nr_employed\r\n",
    "df_renamed.groupBy(\"y\").sum(\"nr_employed\").show()\r\n",
    "df_renamed.groupBy(\"y\").agg(count(\"nr_employed\")).show()\r\n",
    "df_renamed.groupBy(\"y\").max(\"nr_employed\").show()\r\n",
    "df_renamed.groupBy(\"y\").min(\"nr_employed\").show()\r\n",
    "df_renamed.groupBy(\"y\").mean(\"nr_employed\").show()"
   ],
   "outputs": [
    {
     "output_type": "stream",
     "name": "stdout",
     "text": [
      "+---+--------------------+\n",
      "|  y|    sum(nr_employed)|\n",
      "+---+--------------------+\n",
      "| no|1.8917853689994365E8|\n",
      "|yes|  2.36413381999994E7|\n",
      "+---+--------------------+\n",
      "\n",
      "+---+------------------+\n",
      "|  y|count(nr_employed)|\n",
      "+---+------------------+\n",
      "| no|             36548|\n",
      "|yes|              4640|\n",
      "+---+------------------+\n",
      "\n",
      "+---+----------------+\n",
      "|  y|max(nr_employed)|\n",
      "+---+----------------+\n",
      "| no|          5228.1|\n",
      "|yes|          5228.1|\n",
      "+---+----------------+\n",
      "\n",
      "+---+----------------+\n",
      "|  y|min(nr_employed)|\n",
      "+---+----------------+\n",
      "| no|          4963.6|\n",
      "|yes|          4963.6|\n",
      "+---+----------------+\n",
      "\n",
      "+---+-----------------+\n",
      "|  y| avg(nr_employed)|\n",
      "+---+-----------------+\n",
      "| no|5176.166600086014|\n",
      "|yes|5095.115991379181|\n",
      "+---+-----------------+\n",
      "\n"
     ]
    }
   ],
   "metadata": {}
  }
 ],
 "metadata": {
  "kernelspec": {
   "display_name": "Python 3 (ipykernel)",
   "language": "python",
   "name": "python3"
  },
  "language_info": {
   "codemirror_mode": {
    "name": "ipython",
    "version": 3
   },
   "file_extension": ".py",
   "mimetype": "text/x-python",
   "name": "python",
   "nbconvert_exporter": "python",
   "pygments_lexer": "ipython3",
   "version": "3.10.6"
  }
 },
 "nbformat": 4,
 "nbformat_minor": 5
}